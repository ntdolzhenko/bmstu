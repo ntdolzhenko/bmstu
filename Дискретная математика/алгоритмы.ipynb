{
  "nbformat": 4,
  "nbformat_minor": 0,
  "metadata": {
    "colab": {
      "provenance": []
    },
    "kernelspec": {
      "name": "python3",
      "display_name": "Python 3"
    },
    "language_info": {
      "name": "python"
    }
  },
  "cells": [
    {
      "cell_type": "markdown",
      "source": [
        "Алгоритмы 1+2 (Поиск минимального покрытия графа)"
      ],
      "metadata": {
        "id": "yhZJPoC7uQn0"
      }
    },
    {
      "cell_type": "code",
      "source": [
        "def comparator(x):\n",
        "    return len(x[1])\n",
        "\n",
        "graph = [\n",
        "    [0, {1, 2, 4}],             #1\n",
        "    [1, {0, 2, 3}],             #2\n",
        "    [2, {0, 1, 3, 4, 5}],       #3\n",
        "    [3, {1, 2, 4, 6}],          #4\n",
        "    [4, {0, 2, 3, 5, 6, 7, 8}], #5\n",
        "    [5, {2, 4, 8}],             #6\n",
        "    [6, {3, 4, 7, 9}],          #7\n",
        "    [7, {4, 6, 8, 9}],          #8\n",
        "    [8, {4, 5, 7, 9}],          #9\n",
        "    [9, {6, 7, 8}],             #10\n",
        "]\n",
        "\n",
        "# сортируем вершины по убыванию количества смежных вершин\n",
        "sort_graph = sorted(graph, reverse=True, key=comparator)\n",
        "#берем только номера вершин\n",
        "sort_graph_nodes = [i[0] for i in sort_graph]\n",
        "\n",
        "result = []\n",
        "\n",
        "#добавляем первую по количеству смежности вершину\n",
        "result.append([sort_graph_nodes[0]+1])\n",
        "\n",
        "#для каждой вершины в отсортированном списке смежности\n",
        "for i in range(1, len(graph)):\n",
        "\n",
        "    flag = 0\n",
        "    #для каждой группы\n",
        "    for j in range(len(result)):\n",
        "\n",
        "        count = 0\n",
        "        #проверяем смежность вершины i с теми, что находятся в группе j\n",
        "        for q in range(len(result[j])):\n",
        "\n",
        "            if sort_graph_nodes[i] not in graph[result[j][q]-1][1]:\n",
        "                count += 1\n",
        "        # если не смежна ни одной вершине из этой группы, добавляем ее в эту группу\n",
        "        if count == len(result[j]):\n",
        "            result[j].append(sort_graph_nodes[i]+1)\n",
        "            flag = 1\n",
        "\n",
        "        if flag == 1:\n",
        "            break\n",
        "    # если везде смежна, создаем новую группу\n",
        "    if flag == 0:\n",
        "        result.append([sort_graph_nodes[i]+1])\n",
        "\n",
        "\n",
        "for i in result: print(i)\n",
        "\n"
      ],
      "metadata": {
        "colab": {
          "base_uri": "https://localhost:8080/"
        },
        "id": "acjrkZsnh0j-",
        "outputId": "68bb5b13-41ee-48ea-a8fc-c9d49ae768df"
      },
      "execution_count": null,
      "outputs": [
        {
          "output_type": "stream",
          "name": "stdout",
          "text": [
            "[5, 2, 10]\n",
            "[3, 7, 9]\n",
            "[4, 8, 1, 6]\n"
          ]
        }
      ]
    },
    {
      "cell_type": "markdown",
      "source": [
        "Алгоритм 3 (запись разреженной матрицы)"
      ],
      "metadata": {
        "id": "6hLQcHE-0lX9"
      }
    },
    {
      "cell_type": "code",
      "source": [
        "#смежные вершины и вес ребра до них\n",
        "graph = [\n",
        "    {1:1, 2:4, 4:4},    #1\n",
        "    {2:4},              #2\n",
        "    {4:2, 5:3},         #3\n",
        "    {1:1, 2:2, 4:7},    #4\n",
        "    {5:2, 6:2, 8:3},    #5\n",
        "    {8:1},              #6\n",
        "    {3:6, 7:4, 9:4},    #7\n",
        "    {4:3, 8:1, 9:4},    #8\n",
        "    {9:2},              #9\n",
        "    {},                 #10\n",
        "]\n",
        "\n",
        "\n",
        "Aj = [] # текущие смежные вершины\n",
        "\n",
        "Ai = [] # итоговый список вершин (каждая вершина повторяется столько раз, сколько у нее смежных вершин)\n",
        "\n",
        "A = [0] # сумма весов вершин до текущей\n",
        "\n",
        "count = 0\n",
        "\n",
        "for i in range(len(graph)):\n",
        "    for j in range(len(graph)):\n",
        "\n",
        "        if j in graph[i]:\n",
        "            Ai.append(j)\n",
        "            Aj.append(i)\n",
        "            count += 1\n",
        "    A.append(count)\n",
        "\n",
        "print(Ai)\n",
        "print(Aj)\n",
        "print(A)\n"
      ],
      "metadata": {
        "colab": {
          "base_uri": "https://localhost:8080/"
        },
        "id": "bRhYepW70k5X",
        "outputId": "50394aef-021b-4e10-af8f-747a42128387"
      },
      "execution_count": null,
      "outputs": [
        {
          "output_type": "stream",
          "name": "stdout",
          "text": [
            "[1, 2, 4, 2, 4, 5, 1, 2, 4, 5, 6, 8, 8, 3, 7, 9, 4, 8, 9, 9]\n",
            "[0, 0, 0, 1, 2, 2, 3, 3, 3, 4, 4, 4, 5, 6, 6, 6, 7, 7, 7, 8]\n",
            "[0, 3, 4, 6, 9, 12, 13, 16, 19, 20, 20]\n"
          ]
        }
      ]
    },
    {
      "cell_type": "markdown",
      "source": [
        "Алгоритм поиска ширины графа"
      ],
      "metadata": {
        "id": "qWYrcgq38NKW"
      }
    },
    {
      "cell_type": "code",
      "source": [
        "#список смежности (граф с семинара)\n",
        "graph = [\n",
        "    {1, 2, 4},    #0\n",
        "    {2},          #1\n",
        "    {4, 5},       #2\n",
        "    {1, 2, 4},    #3\n",
        "    {5, 6, 8},    #4\n",
        "    {8},          #5\n",
        "    {3, 7, 9},    #6\n",
        "    {4, 8, 9},    #7\n",
        "    {9},          #8\n",
        "    {},           #9\n",
        "]\n",
        "\n",
        "visited = [0]\n",
        "notVisited = [i for i in range(1, len(graph))]\n",
        "\n",
        "width = 0\n",
        "\n",
        "prev_len_vis = 1\n",
        "\n",
        "for i in range(1, len(graph)):\n",
        "    for j in visited:\n",
        "\n",
        "        tmp = [] #список смежных вершин\n",
        "\n",
        "        #если еще не посещенная вершина смежна любой из уже посещенных, записываем ее во временный массив\n",
        "        for q in notVisited:\n",
        "            if q in graph[j]: tmp.append(q)\n",
        "\n",
        "        for q in tmp:\n",
        "            visited.append(q)\n",
        "            notVisited.remove(q)\n",
        "\n",
        "        if prev_len_vis != len(visited): width+=1 # если еще не все обошли, увеличиваем ширину\n",
        "        prev_len_vis = len(visited)\n",
        "\n",
        "print('Ширина графа -', width)"
      ],
      "metadata": {
        "colab": {
          "base_uri": "https://localhost:8080/"
        },
        "id": "YLyH1NELtGFk",
        "outputId": "a9113bc5-7dcd-4cdd-c90e-81ed86c81a56"
      },
      "execution_count": null,
      "outputs": [
        {
          "output_type": "stream",
          "name": "stdout",
          "text": [
            "Ширина графа - 4\n"
          ]
        }
      ]
    },
    {
      "cell_type": "markdown",
      "source": [
        "Алгебра логики"
      ],
      "metadata": {
        "id": "fWZm1BkZoYJ7"
      }
    },
    {
      "cell_type": "markdown",
      "source": [
        "`a*not(b) + c -> (c ~ xsor(a, b*not(c)))`"
      ],
      "metadata": {
        "id": "Jx6kGcjXsNyU"
      }
    },
    {
      "cell_type": "code",
      "source": [
        "#формулы булевой алгебры\n",
        "print('a b c\\t 1 2 3 4 5 6 7 f')\n",
        "for a in range(2):\n",
        "    for b in range(2):\n",
        "        for c in range(2):\n",
        "            print(a, b, c, '\\t', int(not(b)), int(not(c)), int(b*(not(c))),\n",
        "                                int(a!=b*(not(c))), int(c==(a!=b*(not(c)))),\n",
        "                                int(a*(not(b))), int(a*(not(b))or c),\n",
        "                                int((not(a*(not(b))or c))or(c==(a!=b*(not(c))))))"
      ],
      "metadata": {
        "colab": {
          "base_uri": "https://localhost:8080/"
        },
        "id": "olSSw4txo4Pd",
        "outputId": "a6f4f7a8-b906-4dc5-e3c9-61b49fad45ca"
      },
      "execution_count": null,
      "outputs": [
        {
          "output_type": "stream",
          "name": "stdout",
          "text": [
            "a b c\t 1 2 3 4 5 6 7 f\n",
            "0 0 0 \t 1 1 0 0 1 0 0 1\n",
            "0 0 1 \t 1 0 0 0 0 0 1 0\n",
            "0 1 0 \t 0 1 1 1 0 0 0 1\n",
            "0 1 1 \t 0 0 0 0 0 0 1 0\n",
            "1 0 0 \t 1 1 0 1 0 1 1 0\n",
            "1 0 1 \t 1 0 0 1 1 1 1 1\n",
            "1 1 0 \t 0 1 1 0 1 0 0 1\n",
            "1 1 1 \t 0 0 0 1 1 0 1 1\n"
          ]
        }
      ]
    },
    {
      "cell_type": "markdown",
      "source": [
        "`not(c) + a*b ~ (b*not(a) -> a + c)`"
      ],
      "metadata": {
        "id": "aM3T-j_2tqe-"
      }
    },
    {
      "cell_type": "code",
      "source": [
        "print('a b c\\t 1 2 3 4 5 6 7 f')\n",
        "for a in range(2):\n",
        "    for b in range(2):\n",
        "        for c in range(2):\n",
        "            print(a, b, c, '\\t', int(not(a)), int(not(c)), int(b and not(a)),\n",
        "                                int(a or c), int(not(b*(not(a))) or (a or c)),\n",
        "                                int(a and b), int(not(c)or a*b), int((not(c)or a*b)==(not(b*(not(a)))or a or c)))"
      ],
      "metadata": {
        "colab": {
          "base_uri": "https://localhost:8080/"
        },
        "id": "r7Ej76UTs3WW",
        "outputId": "90e44045-9a82-440a-a937-0d0e1e56c9b2"
      },
      "execution_count": null,
      "outputs": [
        {
          "output_type": "stream",
          "name": "stdout",
          "text": [
            "a b c\t 1 2 3 4 5 6 7 f\n",
            "0 0 0 \t 1 1 0 0 1 0 1 1\n",
            "0 0 1 \t 1 0 0 1 1 0 0 0\n",
            "0 1 0 \t 1 1 1 0 0 0 1 0\n",
            "0 1 1 \t 1 0 1 1 1 0 0 0\n",
            "1 0 0 \t 0 1 0 1 1 0 1 1\n",
            "1 0 1 \t 0 0 0 1 1 0 0 0\n",
            "1 1 0 \t 0 1 0 1 1 1 1 1\n",
            "1 1 1 \t 0 0 0 1 1 1 1 1\n"
          ]
        }
      ]
    },
    {
      "cell_type": "markdown",
      "source": [
        "Постфиксная (польская) запись выражения"
      ],
      "metadata": {
        "id": "aDl00VUewA_X"
      }
    },
    {
      "cell_type": "code",
      "source": [
        "def get_priority(value):\n",
        "    if value == '+' or value == '-': return 1\n",
        "    elif value == '*' or value == '/': return 2\n",
        "    else: return -1\n",
        "\n",
        "def postfix(expr):\n",
        "\n",
        "    result = []\n",
        "    stack = []\n",
        "\n",
        "    #для каждого элемента\n",
        "    for element in expr:\n",
        "        #если это не знак операции записываем число в стек\n",
        "        if element not in '+-*/': result.append(element)\n",
        "        else:\n",
        "            # если это операция, берем последний элемент из стека\n",
        "            last = None if not stack else stack[-1]\n",
        "            # пока приоритет последнего элемента больше или равен приоритету текущего\n",
        "            while get_priority(last) >= get_priority(element):\n",
        "                #добавляем last в результат\n",
        "                result.append(stack.pop())\n",
        "                last = None if not stack else stack[-1]\n",
        "            #добавляем текущий элемент в результат\n",
        "            stack.append(element)\n",
        "\n",
        "    # print(stack)\n",
        "    # print(result)\n",
        "    for e in reversed(stack): result.append(e)\n",
        "\n",
        "    return ''.join(result)\n",
        "\n",
        "print(postfix('a+b-c'))"
      ],
      "metadata": {
        "colab": {
          "base_uri": "https://localhost:8080/"
        },
        "id": "v7yipuPedQdm",
        "outputId": "bf25243c-a5b1-432a-80e4-2604677d652f"
      },
      "execution_count": null,
      "outputs": [
        {
          "output_type": "stream",
          "name": "stdout",
          "text": [
            "ab+c-\n"
          ]
        }
      ]
    }
  ]
}