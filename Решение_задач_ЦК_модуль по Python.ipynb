{
  "nbformat": 4,
  "nbformat_minor": 0,
  "metadata": {
    "colab": {
      "provenance": [],
      "toc_visible": true
    },
    "kernelspec": {
      "name": "python3",
      "display_name": "Python 3"
    },
    "language_info": {
      "name": "python"
    }
  },
  "cells": [
    {
      "cell_type": "markdown",
      "source": [
        "#1\n",
        "Напишите скрипт, который считывает строку с клавиатуры. Выведите на экран \"привет\", если введенная строка совпадает со строкой \"привет\" или \"здравствуйте\". Если введено что угодно другое, ничего выводить не нужно.\n",
        "\n",
        "**Формат ввода**\n",
        "\n",
        "привет\n",
        "\n",
        "**Формат вывода**\n",
        "\n",
        "привет"
      ],
      "metadata": {
        "id": "xykTm-QUtqUn"
      }
    },
    {
      "cell_type": "code",
      "source": [
        "str = input()\n",
        "if(str == \"привет\" or str == \"здравствуйте\"):\n",
        "    print(\"привет\")"
      ],
      "metadata": {
        "id": "taZuE_Rlt7Ns"
      },
      "execution_count": null,
      "outputs": []
    },
    {
      "cell_type": "markdown",
      "source": [
        "#2\n",
        "\n",
        "На вход с клавиатуры подаются числа (по одному). Нужно вывести на экран сумму всех четных чисел. Ввод прекращается, если введена пустая строка (\"\"). При любой ситауации, когда не попадаются четные числа, вывести на экран нужно 0 (например, числа не были введены вообще или были введены только нечетные числа).\n",
        "\n",
        "**Формат ввода**\n",
        "\n",
        "1\n",
        "\n",
        "2\n",
        "\n",
        "3\n",
        "\n",
        "4\n",
        "\n",
        "5\n",
        "\n",
        "6\n",
        "\n",
        "7\n",
        "\n",
        "8\n",
        "\n",
        "**Формат вывода**\n",
        "\n",
        "20\n",
        "\n",
        "**Примечания**\n",
        "\n",
        "Ответ проверяется для целочисенного типа данных посимвольно. Т.е., допустим, ответ 100 будет правильным, в то время как 100.0 выдаст ошибку, поскольку он отличается от правильного на два символа .0"
      ],
      "metadata": {
        "id": "yYu4vHy6t72m"
      }
    },
    {
      "cell_type": "code",
      "source": [
        "s = input()\n",
        "s1 = \"\"\n",
        "probel = 0\n",
        "\n",
        "while s[0] == ' ': s = s[1:]\n",
        "while s[-1] == ' ': s = s[:-1]\n",
        "for symbol in s:\n",
        "\n",
        "    if symbol != ' ':\n",
        "        if probel == 1:\n",
        "            s1 += \"*\"\n",
        "        s1 += symbol\n",
        "        probel = 0\n",
        "    else:\n",
        "        probel = 1\n",
        "print(s1)"
      ],
      "metadata": {
        "id": "P1uq3oPnt8qE"
      },
      "execution_count": null,
      "outputs": []
    },
    {
      "cell_type": "markdown",
      "source": [
        "#3\n",
        "\n",
        "С клавиатуры вводится строка. В строке заменить пробелы звездочкой. Если встречается подряд несколько пробелов, то их следует заменить одним знаком \"*\", пробелы в начале и конце строки удалить.\n",
        "\n",
        "**Формат ввода**\n",
        "\n",
        "Какая-нибудь строка типа этой .\n",
        "\n",
        "**Формат вывода**\n",
        "\n",
        "Какая-нибудь\\*строка\\*типа\\*этой:\\*."
      ],
      "metadata": {
        "id": "UclkfOGj64no"
      }
    },
    {
      "cell_type": "code",
      "execution_count": null,
      "metadata": {
        "colab": {
          "base_uri": "https://localhost:8080/"
        },
        "id": "1cS-6eqg64AG",
        "outputId": "7540242a-a583-47ad-f21e-e66bb66552e6"
      },
      "outputs": [
        {
          "output_type": "stream",
          "name": "stdout",
          "text": [
            "Раз два три четыре пять\n",
            "а\n",
            "Раз\n",
            "два\n"
          ]
        }
      ],
      "source": [
        "stroka = input().split()\n",
        "s = input().lower()\n",
        "\n",
        "for word in stroka:\n",
        "\n",
        "    if s in word.lower():\n",
        "        print(word)\n"
      ]
    },
    {
      "cell_type": "markdown",
      "source": [
        "#4\n",
        "\n",
        "С клавиатуры вводится строка, а затем - подстрока. В строке найти все слова, в которых содержится заданная подстрока, и вывести эти слова целиком. Если слова повторяются, вывести все повторения.\n",
        "\n",
        "**Формат ввода**\n",
        "\n",
        "Раз два три четыре пять\n",
        "\n",
        "а\n",
        "\n",
        "**Формат вывода**\n",
        "\n",
        "Раз\n",
        "\n",
        "два\n",
        "\n",
        "**Примечания**\n",
        "\n",
        "Регистр слов не должен учитываться. Но вывод слов должен производиться в том же виде, в котором они были поданы в первоначальной строке."
      ],
      "metadata": {
        "id": "I9Ex-EysvGV5"
      }
    },
    {
      "cell_type": "code",
      "source": [
        "stroka = input().split()\n",
        "s = input().lower()\n",
        "\n",
        "for word in stroka:\n",
        "\n",
        "    if s in word.lower():\n",
        "        print(word)"
      ],
      "metadata": {
        "id": "0Oxjr-rWvGzK"
      },
      "execution_count": null,
      "outputs": []
    },
    {
      "cell_type": "markdown",
      "source": [
        "#6\n",
        "\n",
        "С клавиатуры подается 5 чисел, разделенных концом строки. Нужно вывести их на экран от большего к меньшему, также разделяя их концом строки.\n",
        "\n",
        "**Формат ввода**\n",
        "\n",
        "12\n",
        "\n",
        "1\n",
        "\n",
        "45\n",
        "\n",
        "9\n",
        "\n",
        "10\n",
        "\n",
        "**Формат вывода**\n",
        "\n",
        "45\n",
        "\n",
        "12\n",
        "\n",
        "10\n",
        "\n",
        "9\n",
        "\n",
        "1\n",
        "\n"
      ],
      "metadata": {
        "id": "712xWFEsvSF7"
      }
    },
    {
      "cell_type": "code",
      "source": [
        "numbers = []\n",
        "\n",
        "# n = int(input())\n",
        "# numbers.append(n)\n",
        "for i in range(5):\n",
        "    n = int(input())\n",
        "    numbers.append(n)\n",
        "\n",
        "\n",
        "numbers = sorted(numbers, reverse = True)\n",
        "\n",
        "for i in numbers:\n",
        "\tprint(i, end = '\\n')"
      ],
      "metadata": {
        "colab": {
          "base_uri": "https://localhost:8080/"
        },
        "id": "e5fHon5sEh3T",
        "outputId": "10e436f7-493e-4334-d907-c80fd51a07a1"
      },
      "execution_count": null,
      "outputs": [
        {
          "output_type": "stream",
          "name": "stdout",
          "text": [
            "1\n",
            "\n",
            "12\n",
            "\n",
            "45\n",
            "\n",
            "9\n",
            "\n",
            "0\n",
            "45 \n",
            "\n",
            "12 \n",
            "\n",
            "9 \n",
            "\n",
            "1 \n",
            "\n",
            "0 \n",
            "\n"
          ]
        }
      ]
    },
    {
      "cell_type": "markdown",
      "source": [
        "#7\n",
        "\n",
        "С клавиатуры вводится строка, содержащая произвольное количество слов через запятую и пробел. Слова могут повторяться. Нужно вывести на экран все слова в алфавитном порядке по одному разу, также через пробел и запятую.\n",
        "\n",
        "**Формат ввода**\n",
        "\n",
        "джек, воробей, капитан, джек, воробей\n",
        "\n",
        "**Формат вывода**\n",
        "\n",
        "воробей, джек, капитан\n",
        "\n",
        "**Примечания**\n",
        "\n",
        "Обратите внимание, что в примере у первого слова \"воробей\" стоит запятая, а у второго - нет. В решении такие случае следует учесть. Кроме того, слова могут быть написаны в разном регистре. Вывести их нужно в нижнем регистре. Одинаковые слова, написанные в разных регистрах, считаем одинаковыми."
      ],
      "metadata": {
        "id": "oVcnsYVeIu3O"
      }
    },
    {
      "cell_type": "code",
      "source": [
        "stroka = input().lower().split(', ')\n",
        "set_stroka = sorted(set(stroka))\n",
        "print(', '.join(set_stroka))"
      ],
      "metadata": {
        "colab": {
          "base_uri": "https://localhost:8080/"
        },
        "id": "FH7wLfkhIvo_",
        "outputId": "54a7e758-0bea-40a9-b5e0-a527e120f057"
      },
      "execution_count": null,
      "outputs": [
        {
          "output_type": "stream",
          "name": "stdout",
          "text": [
            "джек, воробей, капитан, джек, воробей\n",
            "воробей, джек, капитан\n"
          ]
        }
      ]
    },
    {
      "cell_type": "markdown",
      "source": [
        "#8\n",
        "\n",
        "С клавиатуры вводятся слова через запятую с пробелом. Выведите на экран три наиболее часто встречаемых слова, вместе с количеством этих слов. Количество должно быть отделено от слова двоеточием и пробелом. Каждая пара слово-количество должна быть выведена на отдельной строчке. Для простоты гарантируется, что в строке нет слов с одинаковой встречаемостью.\n",
        "\n",
        "**Формат ввода**\n",
        "\n",
        "три, три, и, ещё, три, будет, дырка, и, будет, и, дырка, и, дырка, и, дырка\n",
        "\n",
        "**Формат вывода**\n",
        "\n",
        "и: 5\n",
        "\n",
        "дырка: 4\n",
        "\n",
        "три: 3\n",
        "\n",
        "**Примечания**\n",
        "\n",
        "Рекомендация: чтобы быстрее решить задачу, нужно составить словарь, в котором ключами будут встреченные слова, а значениями - их количество в строке. Далее работайте с этим словарем по своему усмотрению. Далее один из вариантов - отсортировать кортежи, в которых на первом месте стоит количество слов, а на втором - сами слова.\n",
        "\n",
        "Учтите, что различных слов в строке может быть меньше трех. В этом случае нужно вывести все."
      ],
      "metadata": {
        "id": "PO0FdnWGLVoa"
      }
    },
    {
      "cell_type": "code",
      "source": [
        "s = input().lower().split(', ')\n",
        "ss = set(s)\n",
        "\n",
        "slova = {}\n",
        "for slovo in ss:\n",
        "    slova[slovo] = 0\n",
        "\n",
        "for slovo in s:\n",
        "    slova[slovo] += 1\n",
        "\n",
        "sort_slova = sorted(slova.items(), key=lambda x: x[1], reverse=True)\n",
        "\n",
        "a = 0\n",
        "for i in sort_slova:\n",
        "    print(str(i[0]) + ': ' + str(i[1]))\n",
        "    a+=1\n",
        "    if a == 3:\n",
        "        break\n",
        "\n",
        "\n",
        "\n",
        "# sort_slova = sorted(slova.items(), key=lambda x: x[1], reverse=True)\n",
        "# sort_slova_dict = dict(sort_slova)\n",
        "\n",
        "# i = 0\n",
        "# for k, v in sort_slova_dict.items():\n",
        "#     if i > 2: break\n",
        "#     i+=1\n",
        "#     print(k, ':', v)\n",
        "\n",
        "\n"
      ],
      "metadata": {
        "id": "UYoM4mH0LWce",
        "colab": {
          "base_uri": "https://localhost:8080/"
        },
        "outputId": "7e0abff8-7e47-496d-f6d5-7f88ecab689a"
      },
      "execution_count": null,
      "outputs": [
        {
          "output_type": "stream",
          "name": "stdout",
          "text": [
            "три, три, и, ещё, три, будет, дырка, и, будет, и, дырка, и, дырка, и, дырка\n",
            "и: 5\n",
            "дырка: 4\n",
            "три: 3\n"
          ]
        }
      ]
    },
    {
      "cell_type": "markdown",
      "source": [
        "#9\n",
        "\n",
        "С клавиатуры вводится дата в формате DD-MM-YYYY. Нужно вывести дату начала недели, к которой относится введенная дата (дата понедельника недели), в таком же формате.\n",
        "\n",
        "**Формат ввода**\n",
        "\n",
        "22-09-2022\n",
        "\n",
        "**Формат вывода**\n",
        "\n",
        "19-09-2022\n",
        "\n",
        "**Примечания**\n",
        "\n",
        "Если введен понедельник - нужно вывести его же."
      ],
      "metadata": {
        "id": "-GvbBMjIcVtF"
      }
    },
    {
      "cell_type": "code",
      "source": [
        "import datetime\n",
        "\n",
        "d = input().split('-')\n",
        "\n",
        "in_date = datetime.date(int(d[2]), int(d[1]), int(d[0]))\n",
        "delta = in_date + datetime.timedelta(days=-in_date.weekday())\n",
        "\n",
        "print(\"%(day)d-%(month)02d-%(year)d\" % {\"day\" : delta.day, \"month\" : delta.month, \"year\" : delta.year})"
      ],
      "metadata": {
        "colab": {
          "base_uri": "https://localhost:8080/"
        },
        "id": "SP6it7SOvTw1",
        "outputId": "37e212c4-cda4-4392-e182-43fede0aa5b6"
      },
      "execution_count": null,
      "outputs": [
        {
          "output_type": "stream",
          "name": "stdout",
          "text": [
            "22-10-2022\n",
            "17-10-2022\n"
          ]
        }
      ]
    },
    {
      "cell_type": "markdown",
      "source": [
        "#10\n",
        "\n",
        "Допустим, ваша компания каждый месяц выделяет некоторую сумму денег на подарки сотрудникам ко дню рождения. Каждый месяц эта сумма разная. Также у вас есть список дней рождения сотрудников. Вам нужно написать удобный инструмент для того, чтобы сотрудники могли понять, сколько денег им ждать на день рождения, если известно, какой бюджет выделяется на месяц и для какого месяца производится подсчет. Для этого напишите функцию gift_count, которая будет принимать:\n",
        "\n",
        "* бюджет, который выделяется компанией на месяц\n",
        "* номер месяца, на который нужно произвести расчет\n",
        "* словарь, где ключи - это имена сотрудников, а значения - datetime.date с датой рождения сотрудника.\n",
        "\n",
        "Функция должна вывести на экран фразу (цифры должны быть подставлены в соответствии со значениями аргументов):\n",
        "\n",
        "* Именинники в месяце 5: Иванов Иван Иванович (01.05.1989), Петров Петр Петрович (06.05.1998). При бюджете 20000 они получат по 10000 рублей.\n",
        "\n",
        "Если в ответе получается не целое число, округлите его до меньшего целого. Именинники должны быть выведены в порядке дня рождения по возрастанию (не полной даты рождения, а именно дня). Если в выбранном месяце нет именинников, должна быть выведена строка \"В этом месяце нет именинников.\"\n",
        "\n",
        "**Формат ввода**\n",
        "\n",
        "birthdays = {\"Иванов Иван Иванович\": datetime.date(1989, 5, 1), \"Петров Петр Петрович\": datetime.date(1998, 5, 6)}\n",
        "\n",
        "gift_count(20000, 5, birthdays)\n",
        "\n",
        "gift_count(budget=20000, month=5, birthdays=birthdays)\n",
        "\n",
        "**Формат вывода**\n",
        "\n",
        "Именинники в месяце 5: Иванов Иван Иванович (01.05.1989), Петров Петр Петрович (06.05.1998). При бюджете 20000 они получат по 10000 рублей.\n",
        "\n",
        "**Примечания**\n",
        "\n",
        "В примере формата ввода показаны несколько вариантов вызова функции gift_count: с порядковыми аргументами и с передачей их по имени. Соответственно, аргументы функции должны называться так же, как они используются в примере."
      ],
      "metadata": {
        "id": "QTAdFBo_cX4f"
      }
    },
    {
      "cell_type": "code",
      "source": [
        "import datetime, math\n",
        "\n",
        "\n",
        "def gift_count(budget, month, birthdays):\n",
        "\n",
        "    dict_of_bd = {}\n",
        "\n",
        "    for key, value in birthdays.items():\n",
        "        if value.month == month:\n",
        "            dict_of_bd[key]= value\n",
        "\n",
        "    if len(dict_of_bd) == 0: print('В этом месяце нет именинников.')\n",
        "    else:\n",
        "        print(f\"Именинники в месяце {month}: \", end='')\n",
        "\n",
        "        dict_of_bd = dict(sorted(dict_of_bd.items(), key=lambda x: x[1].day))\n",
        "\n",
        "        first_item = list(dict_of_bd.items())[0]\n",
        "        print(\"{} ({:0>2}.{:0>2}.{})\".format(first_item[0], first_item[1].day, first_item[1].month, first_item[1].year), end='')\n",
        "        dict_of_bd.pop(first_item[0])\n",
        "\n",
        "        for key,value in dict_of_bd.items():\n",
        "            print(\", {} ({:0>2}.{:0>2}.{})\".format(key, value.day, value.month, value.year), end='')\n",
        "\n",
        "        print(f\". При бюджете {budget} они получат по {math.ceil(budget/(len(dict_of_bd)+1))} рублей.\")\n",
        "\n",
        "\n",
        "\n",
        "\n",
        "\n",
        "# birthdays = {\"Петров Петр Петрович\": datetime.date(1998, 5, 6), \"Иванов Иван Иванович\": datetime.date(1989, 5, 1)}\n",
        "\n",
        "\n",
        "# gift_count(budget=20000, month=4, birthdays=birthdays)"
      ],
      "metadata": {
        "colab": {
          "base_uri": "https://localhost:8080/"
        },
        "id": "omlgRYSHcZ0d",
        "outputId": "57ae9c0c-d568-4ddb-bf71-60f2e4553a17"
      },
      "execution_count": null,
      "outputs": [
        {
          "output_type": "stream",
          "name": "stdout",
          "text": [
            "В этом месяце нет именинников.\n"
          ]
        }
      ]
    },
    {
      "cell_type": "markdown",
      "source": [
        "#11\n",
        "\n",
        "Вам нужно написать функцию lists_sum, которая принимает произвольное количество списков чисел, и возвращает сумму всех этих чисел. Предусмотрите дополнительный аргумент unique, который по умолчанию равен False, но если в функцию подается unique=True, то функция должна вернуть сумму всех уникальных чисел из всех списков. Если поданы только пустые списки или списки чисел вообще не поданы в функцию, то считать сумму чисел нулём.\n",
        "\n",
        "**Формат ввода**\n",
        "\n",
        "lists_sum([1, 1], [1], [1, 2, 3])\n",
        "\n",
        "lists_sum([1, 1, 1], [1, 1], unique=True)\n",
        "\n",
        "lists_sum([1, 1, 1], unique=False)\n",
        "\n",
        "**Формат вывода**\n",
        "\n",
        "lists_sum([1, 1], [1], [1, 2, 3]) == 9\n",
        "\n",
        "lists_sum([1, 1, 1], [1, 1], unique=True) == 1\n",
        "\n",
        "lists_sum([1, 1, 1], unique=False) == 3"
      ],
      "metadata": {
        "id": "-hoa3c6ayT1u"
      }
    },
    {
      "cell_type": "code",
      "source": [
        "def lists_sum(*args, unique=False):\n",
        "    s = 0\n",
        "\n",
        "    if unique:\n",
        "        l = []\n",
        "        for i in args:\n",
        "            l += i\n",
        "        sl = set(l)\n",
        "        s += sum(sl)\n",
        "    else:\n",
        "        for i in args:\n",
        "            s += sum(i)\n",
        "    return s"
      ],
      "metadata": {
        "id": "2Pbfg4yEuos7"
      },
      "execution_count": null,
      "outputs": []
    },
    {
      "cell_type": "code",
      "source": [
        "# lists_sum([1, 1], [1], [1, 2, 3])\n",
        "\n",
        "lists_sum([1, 1, 1], [1, 1], unique=True)\n",
        "\n",
        "# lists_sum([1, 1, 1], unique=False)"
      ],
      "metadata": {
        "colab": {
          "base_uri": "https://localhost:8080/"
        },
        "id": "rIBQZVsG1bux",
        "outputId": "08c1c8a9-ddf0-4c7b-9580-f8b5839e3928"
      },
      "execution_count": null,
      "outputs": [
        {
          "output_type": "execute_result",
          "data": {
            "text/plain": [
              "1"
            ]
          },
          "metadata": {},
          "execution_count": 93
        }
      ]
    },
    {
      "cell_type": "markdown",
      "source": [
        "#12\n",
        "\n",
        "**Постановка задачи**\n",
        "\n",
        "Вы с друзьями периодически собираетесь на лавке у подъезда выпить чаю с баранками. Каждый раз собирается разное количество человек, которое должно скинуть по n рублей на мероприятие. Также у вас в компании есть общак, в который можно докинуть денег, а можно взять. Все транзакции в общак логируются, т.е. у вас есть информация о каждом переводе денег в/из общака для каждого из друзей. Ваша задача - посчитать, сколько денег должен каждый из собравшихся на мероприятие друзей на момент начала мероприятия. Будем считать, что все деньги проходят через общак, поэтому у каждого друга к началу мероприятия уже есть некоторый \"баланс\" в общаке.\n",
        "\n",
        "**Формат хранения данных**\n",
        "\n",
        "Все операции с деньгами хранятся в базе данных и приходят к вам в виде списка словарей вида:\n",
        "\n",
        "    {\"name\": \"Василий\", \"amount\": 500},\n",
        "    {\"name\": \"Петя\", \"amount\": 100},\n",
        "    {\"name\": \"Василий\", \"amount\": -300},\n",
        "\n",
        "где name - имя друга (считаем, что всех зовут по-разному), amount - сумма, которая добавлена в общак. Если сумма отрицательная - это значит, что друг взял деньги из общака. Также считаем, что скидываются суммы в рублях без копеек.\n",
        "\n",
        "Вам нужно описать две функции.\n",
        "* get_balance(name, transactions) -> int\n",
        "функция, которая возвращает текущий баланс друга с именем name, исходя из списка транзакций transactions. Если имя name ни разу не встречается в списке transactions, считаем, что баланс этого друга в общаке равен 0 рублей.\n",
        "* count_debts(names, amount, transactions) -> dict\n",
        "функция, которая принимает список имен присутствующих на мероприятии друзей names, стоимость баранок и чая на человека amount, а также список транзакций в общак transactions. Вернуть эта функция должна словарь вида {\"имя_друга\": 100}, где 100 - это количество денег, которое он должен скинуть на мероприятие. Если на балансе друга больше денег, чем требуется на мероприятие, то он должен 0 рублей.\n",
        "\n",
        "**Формат ввода**\n",
        "\n",
        "transactions = [ {\"name\": \"Василий\", \"amount\": 500}, {\"name\": \"Петя\", \"amount\": 100}, {\"name\": \"Василий\", \"amount\": -300}, ]\n",
        "\n",
        "get_balance(\"Василий\", transactions)\n",
        "\n",
        "count_debts([\"Василий\", \"Петя\", \"Вова\"], 150, transactions)\n",
        "\n",
        "**Формат вывода**\n",
        "\n",
        "get_balance(\"Василий\", transactions) == 200\n",
        "\n",
        "count_debts([\"Василий\", \"Петя\", \"Вова\"], 150, transactions) == {\"Василий\": 0, \"Петя\": 50, \"Вова\": 150}"
      ],
      "metadata": {
        "id": "GrxuIN0452-Z"
      }
    },
    {
      "cell_type": "code",
      "source": [
        "def get_balance(name, transactions):\n",
        "    balance = 0\n",
        "\n",
        "    for transact in transactions:\n",
        "        if transact[\"name\"] == name:\n",
        "            balance += transact[\"amount\"]\n",
        "    return balance\n",
        "\n",
        "def count_debts(names, amount, transactions):\n",
        "    diction = {}\n",
        "\n",
        "    for name in names:\n",
        "        balance = get_balance(name, transactions) - amount\n",
        "        if balance > 0: balance = 0\n",
        "        else: balance *= -1\n",
        "        diction[name] = balance\n",
        "    return diction"
      ],
      "metadata": {
        "id": "8umyoA2O52UD"
      },
      "execution_count": null,
      "outputs": []
    },
    {
      "cell_type": "code",
      "source": [
        "transactions = [ {\"name\": \"Василий\", \"amount\": 500}, {\"name\": \"Петя\", \"amount\": 100}, {\"name\": \"Василий\", \"amount\": -300}, ]\n",
        "\n",
        "# get_balance(\"Василий\", transactions)\n",
        "\n",
        "count_debts([\"Василий\", \"Петя\", \"Вова\"], 150, transactions)"
      ],
      "metadata": {
        "colab": {
          "base_uri": "https://localhost:8080/"
        },
        "id": "qj3f09idAJ8f",
        "outputId": "75f4556f-8e2f-4fb9-f077-ca741443bbeb"
      },
      "execution_count": null,
      "outputs": [
        {
          "output_type": "execute_result",
          "data": {
            "text/plain": [
              "{'Василий': 0, 'Петя': 50, 'Вова': 150}"
            ]
          },
          "metadata": {},
          "execution_count": 102
        }
      ]
    },
    {
      "cell_type": "markdown",
      "source": [
        "#13\n",
        "\n",
        "Написать функцию, которая на вход принимает строку, а на выход выдает булево значение (True или False), которое истинно, если полученная строка соответствует российскому номеру телефона или адресу электронной почты.\n",
        "\n",
        "**Сигнатура функции:**\n",
        "\n",
        "check_string(string) -> bool\n",
        "\n",
        "**Формат ввода**\n",
        "\n",
        "+7-916-000-00-00\n",
        "\n",
        "**Формат вывода**\n",
        "\n",
        "True\n",
        "\n",
        "**Примечания**\n",
        "\n",
        "Допустимые форматы телефонов. Код страны - всегда либо 7, либо 8, либо +7, либо опущен; код оператора может быть любой:\n",
        "\n",
        "89160000000\n",
        "\n",
        "+79160000000\n",
        "\n",
        "9160000000\n",
        "\n",
        "8(916)000-00-00\n",
        "\n",
        "+7(916)000-00-00\n",
        "\n",
        "(916)000-00-00\n",
        "\n",
        "8 (916) 000-00-00\n",
        "\n",
        "+7 (916) 000-00-00\n",
        "\n",
        "(916) 000-00-00\n",
        "\n",
        "8(916)0000000\n",
        "\n",
        "+7(916)0000000\n",
        "\n",
        "(916)0000000\n",
        "\n",
        "8-916-000-00-00\n",
        "\n",
        "+7-916-000-00-00\n",
        "\n",
        "916-000-00-00\n",
        "\n",
        "Валидным адресом электронной почты будем считать строки, содержащие @ и не меньше одной точки (после точки - не меньше двух символов), например:\n",
        "\n",
        "abc@abc.ab\n",
        "\n",
        "abc@abc.ab.ab\n",
        "\n",
        "a@ab.ab\n",
        "\n",
        "abc.abc@abc.abc\n",
        "\n",
        "Невалидные адреса:\n",
        "\n",
        "@abc.abc\n",
        "\n",
        "abc@abc\n",
        "\n",
        "abc@abc.a\n",
        "\n",
        "abc@abc.abc.a\n",
        "\n",
        "abc@abc.\n",
        "\n",
        "abc@abc@abc"
      ],
      "metadata": {
        "id": "LNuvw5fXCMHP"
      }
    },
    {
      "cell_type": "code",
      "source": [
        "import re\n",
        "\n",
        "def check_string(string):\n",
        "    pattern = re.compile('((8|\\+7|7)?( ?\\([0-9]{3}\\) |\\([0-9]{3}\\)|-?[0-9]{3}-|[0-9]{3})([0-9]{7}|[0-9]{3}-[0-9]{2}-[0-9]{2})$)|([\\w\\.]+@[\\w\\.]*(\\.\\w{2,})+$)')\n",
        "\n",
        "    if pattern.match(string): return True\n",
        "    else: return False\n"
      ],
      "metadata": {
        "id": "lyYU8pvOCPIK"
      },
      "execution_count": null,
      "outputs": []
    },
    {
      "cell_type": "code",
      "source": [
        "li = ['+79160000000', '9160000000', '8(916)000-00-00', '+7(916)000-00-00', '(916)000-00-00', '8 (916) 000-00-00', '+7 (916) 000-00-00', '(916) 000-00-00',\n",
        "      '8(916)0000000', '+7(916)0000000', '(916)0000000', '8-916-000-00-00', '+7-916-000-00-00', '916-000-00-00']\n",
        "\n",
        "pattern = re.compile(r'(8|\\+7|7)?( ?\\([0-9]{3}\\) |\\([0-9]{3}\\)|-?[0-9]{3}-|[0-9]{3})([0-9]{7}|[0-9]{3}-[0-9]{2}-[0-9]{2})$')\n",
        "\n",
        "for val in li:\n",
        "    if pattern.match(val):\n",
        "        print(val, 'yes', sep=\"\\t\")\n",
        "    else:\n",
        "        print(val, 'no', sep=\"\\t\")\n",
        "\n",
        "\n"
      ],
      "metadata": {
        "colab": {
          "base_uri": "https://localhost:8080/"
        },
        "id": "Nv87eUMH0s5_",
        "outputId": "18807107-76b8-4855-986f-4842ced81e91"
      },
      "execution_count": null,
      "outputs": [
        {
          "output_type": "stream",
          "name": "stdout",
          "text": [
            "+79160000000\tyes\n",
            "9160000000\tyes\n",
            "8(916)000-00-00\tyes\n",
            "+7(916)000-00-00\tyes\n",
            "(916)000-00-00\tyes\n",
            "8 (916) 000-00-00\tyes\n",
            "+7 (916) 000-00-00\tyes\n",
            "(916) 000-00-00\tyes\n",
            "8(916)0000000\tyes\n",
            "+7(916)0000000\tyes\n",
            "(916)0000000\tyes\n",
            "8-916-000-00-00\tyes\n",
            "+7-916-000-00-00\tyes\n",
            "916-000-00-00\tyes\n"
          ]
        }
      ]
    },
    {
      "cell_type": "code",
      "source": [
        "li = ['abc@abc.ab', 'abc@abc.ab.ab', 'a@ab.ab', 'abc.abc@abc.abc']\n",
        "\n",
        "pattern = re.compile(r'[\\w\\.]+@[\\w\\.]*(\\.\\w{2,})+$')\n",
        "\n",
        "for val in li:\n",
        "    if pattern.match(val):\n",
        "        print(val, 'yes', sep=\"\\t\")\n",
        "    else:\n",
        "        print(val, 'no', sep=\"\\t\")"
      ],
      "metadata": {
        "colab": {
          "base_uri": "https://localhost:8080/"
        },
        "id": "WGEwtZ7Nysm8",
        "outputId": "9cc65deb-da88-42b1-98f2-11034d481d73"
      },
      "execution_count": null,
      "outputs": [
        {
          "output_type": "stream",
          "name": "stdout",
          "text": [
            "abc@abc.ab\tyes\n",
            "abc@abc.ab.ab\tyes\n",
            "a@ab.ab\tyes\n",
            "abc.abc@abc.abc\tyes\n"
          ]
        }
      ]
    },
    {
      "cell_type": "code",
      "source": [
        "li1 = ['@abc.abc', 'abc@abc', 'abc@abc.a', 'abc@abc.abc.a', 'abc@abc.', 'abc@abc@abc']\n",
        "\n",
        "pattern = re.compile(r'[\\w\\.]+@[\\w\\.]*(\\.\\w{2,})+$')\n",
        "\n",
        "for val in li1:\n",
        "    if pattern.match(val):\n",
        "        print(val, 'yes', sep=\"\\t\")\n",
        "    else:\n",
        "        print(val, 'no', sep=\"\\t\")"
      ],
      "metadata": {
        "colab": {
          "base_uri": "https://localhost:8080/"
        },
        "id": "79LHrgVlzL8P",
        "outputId": "33ae4a0f-efaa-46bb-b13a-a2d3387f0700"
      },
      "execution_count": null,
      "outputs": [
        {
          "output_type": "stream",
          "name": "stdout",
          "text": [
            "@abc.abc\tno\n",
            "abc@abc\tno\n",
            "abc@abc.a\tno\n",
            "abc@abc.abc.a\tno\n",
            "abc@abc.\tno\n",
            "abc@abc@abc\tno\n"
          ]
        }
      ]
    },
    {
      "cell_type": "markdown",
      "source": [
        "#14\n",
        "\n",
        "Напишите функцию get_popular_name_from_file(filename), которая считывает файл, в котором в каждой строке записаны имя и фамилия через пробел. filename - это имя файла, в котором записаны эти имена. Вам нужно вернуть строку - самое популярное имя в файле. Если таких имен несколько, они должны быть перечислены через запятую внутри строки в алфавитном порядке.\n",
        "\n",
        "**Формат ввода**\n",
        "\n",
        "Джо Байден\n",
        "\n",
        "Владимир Добрый\n",
        "\n",
        "Владимир Злой\n",
        "\n",
        "Джо Буш\n",
        "\n",
        "Илон Маск\n",
        "\n",
        "**Формат вывода**\n",
        "\n",
        "Владимир, Джо"
      ],
      "metadata": {
        "id": "Z2c5875R5F7o"
      }
    },
    {
      "cell_type": "code",
      "source": [
        "def get_popular_name_from_file(filename):\n",
        "\n",
        "    with open(filename) as f:\n",
        "        dictionary = {}\n",
        "        for line in f:\n",
        "            string = line.split(' ')\n",
        "            if string[0] not in dictionary.keys():\n",
        "                dictionary[string[0]] = 1\n",
        "            else: dictionary[string[0]] += 1\n",
        "        maxlist = sorted(dictionary.items(), key=lambda x: x[1], reverse=True)\n",
        "\n",
        "        maxx = maxlist[0][1]\n",
        "        maxname = [maxlist[0][0]]\n",
        "        for s in maxlist[1:]:\n",
        "            if s[1] == maxx: maxname.append(s[0])\n",
        "            else: break\n",
        "\n",
        "        maxname = sorted(maxname)\n",
        "        ss = '' + maxname[0]\n",
        "        for name in maxname[1:]:\n",
        "            ss += ', ' + name\n",
        "        return ss\n",
        "\n",
        "\n",
        "\n"
      ],
      "metadata": {
        "id": "js3mDOVj5Hud"
      },
      "execution_count": null,
      "outputs": []
    },
    {
      "cell_type": "code",
      "source": [
        "l = ['Джо Байден\\n', 'Владимир Добрый\\n', 'Владимир Злой\\n', 'Джо Буш\\n', 'Илон Маск']\n",
        "\n",
        "dictionary = {}\n",
        "for line in l:\n",
        "    string = line.split(' ')\n",
        "    if string[0] not in dictionary.keys():\n",
        "        dictionary[string[0]] = 1\n",
        "    else: dictionary[string[0]] += 1\n",
        "maxlist = sorted(dictionary.items(), key=lambda x: x[1], reverse=True)\n",
        "maxx = maxlist[0][1]\n",
        "maxname = [maxlist[0][0]]\n",
        "for s in maxlist[1:]:\n",
        "    if s[1] == maxx: maxname.append(s[0])\n",
        "    else: break\n",
        "maxname = sorted(maxname)\n",
        "ss = '' + maxname[0]\n",
        "for name in maxname[1:]:\n",
        "    ss += ', ' + name\n",
        "\n"
      ],
      "metadata": {
        "colab": {
          "base_uri": "https://localhost:8080/"
        },
        "id": "GjOiqDFG92zq",
        "outputId": "9b169a5f-ab4b-4bb9-86dc-08b0748803fa"
      },
      "execution_count": null,
      "outputs": [
        {
          "output_type": "stream",
          "name": "stdout",
          "text": [
            "Владимир, Джо\n"
          ]
        }
      ]
    },
    {
      "cell_type": "markdown",
      "source": [
        "#15\n",
        "\n",
        "Задачи, аналогичные этой, часто встречаются в реальной веб-разработке. Будем получать и отдавать JSONы. К вам поступают данные в виде json-строки, в которых содержится список людей. Для каждого человека описаны различные его параметры, но вам нужно посчитать просто средний возраст всех людей из списка. Напишите функцию mean_age(json_string), которая принимает json строку, считает средний возраст людей из входных данных и возвращает новую json-строку в том формате, который указан ниже.\n",
        "\n",
        "**Формат ввода**\n",
        "\n",
        "    [{\n",
        "        \"name\": \"Петр\",\n",
        "        \"surname\": \"Петров\",\n",
        "        \"patronymic\": \"Васильевич\",\n",
        "        \"age\": 23,\n",
        "        \"occupation\": \"ойтишнек\"\n",
        "    },\n",
        "    {\n",
        "        \"name\": \"Василий\",\n",
        "        \"surname\": \"Васильев\",\n",
        "        \"patronymic\": \"Петрович\",\n",
        "        \"age\": 24,\n",
        "        \"occupation\": \"дворник\"\n",
        "    }]\n",
        "\n",
        "**Формат вывода**\n",
        "\n",
        "{\"mean_age\": 23.5}"
      ],
      "metadata": {
        "id": "hiyQAnwqS5Kd"
      }
    },
    {
      "cell_type": "code",
      "source": [
        "import json\n",
        "\n",
        "def mean_age(json_string):\n",
        "    data = json.loads(json_string)\n",
        "    age = []\n",
        "    for person in data:\n",
        "        age.append(person[\"age\"])\n",
        "\n",
        "    return json.dumps({\"mean_age\":sum(age)/len(age)})"
      ],
      "metadata": {
        "id": "-9onUJmVS4sh"
      },
      "execution_count": null,
      "outputs": []
    },
    {
      "cell_type": "code",
      "source": [
        "string = [{\"name\": \"Петр\",\"surname\": \"Петров\",\"patronymic\": \"Васильевич\",\"age\": 23,\"occupation\": \"ойтишнек\"},{\"name\": \"Василий\",\"surname\": \"Васильев\",\"patronymic\": \"Петрович\",\"age\": 24,\"occupation\": \"дворник\"}]\n",
        "\n",
        "json_string = json.dumps([{\"name\": \"Петр\",\"surname\": \"Петров\",\"patronymic\": \"Васильевич\",\"age\": 23,\"occupation\": \"ойтишнек\"},{\"name\": \"Василий\",\"surname\": \"Васильев\",\"patronymic\": \"Петрович\",\"age\": 24,\"occupation\": \"дворник\"}])\n",
        "mean_age(json_string)\n"
      ],
      "metadata": {
        "colab": {
          "base_uri": "https://localhost:8080/",
          "height": 35
        },
        "id": "IQA-sqCWUut6",
        "outputId": "68d112b6-b701-4e34-9e21-5390ec48a9ea"
      },
      "execution_count": null,
      "outputs": [
        {
          "output_type": "execute_result",
          "data": {
            "text/plain": [
              "'{\"mean_age\": 23.5}'"
            ],
            "application/vnd.google.colaboratory.intrinsic+json": {
              "type": "string"
            }
          },
          "metadata": {},
          "execution_count": 47
        }
      ]
    },
    {
      "cell_type": "markdown",
      "source": [
        "#16\n",
        "\n",
        "Опишите класс Calculator, который будет реализовывать следующие методы и поля:\n",
        "\n",
        "* sum(self, a, b) - сложение чисел a и b\n",
        "* sub(self, a, b) - вычитание\n",
        "* mul(self, a, b) - умножение\n",
        "* div(self, a, b, mod=False) - деление. Если параметр mod == True, то метод должен возвращать остаток от деления вместо деления. По умолчанию mod=False.\n",
        "* history(self, n) - этот метод должен возвращать строку с операцией по ее номеру относительно текущего момента (1 - последняя, 2 - предпоследняя). Формат вывода: sum(5, 15) == 20\n",
        "* last - строка того же формата, что в предыдущем пункте, в которой содержится информация о последней операции по всем созданным объектам калькулятора. Т.е. это последняя операция последнего использованного объекта калькулятор. Если операций пока не было, то None.\n",
        "* clear(cls) - метод, который очищает last, т.е. присваивает ему значение None.\n",
        "\n",
        "\n",
        "Формат вывода\n",
        "\n",
        "При сохранении строк в history и last нужно выводить только один знак после запятой дробного числа. При выполнении деления с mod сам параметр mod не нужно записывать в лог."
      ],
      "metadata": {
        "id": "E_z5ASCChM69"
      }
    },
    {
      "cell_type": "code",
      "source": [
        "class Calculator:\n",
        "\n",
        "    last = None\n",
        "\n",
        "    def __init__(self):\n",
        "        self.historyList = []\n",
        "\n",
        "    def sum(self, a, b):\n",
        "        Calculator.last = f'sum({a}, {b}) == {a+b}'\n",
        "        self.historyList.append(Calculator.last)\n",
        "\n",
        "        return a + b\n",
        "\n",
        "    def sub(self, a, b):\n",
        "        Calculator.last = f'sub({a}, {b}) == {a-b}'\n",
        "        self.historyList.append(Calculator.last)\n",
        "\n",
        "        return a - b\n",
        "\n",
        "    def mul(self, a, b):\n",
        "        Calculator.last = f'mul({a}, {b}) == {a*b}'\n",
        "        self.historyList.append(Calculator.last)\n",
        "\n",
        "        return a * b\n",
        "\n",
        "    def div(self, a, b, mod=False):\n",
        "\n",
        "        if not mod:\n",
        "            if a%b == 0: self.last = f'div({a}, {b}) == {a/b}'\n",
        "            else: Calculator.last = f'div({a}, {b}) == ' + '%.1f' % (a/b)\n",
        "            self.historyList.append(Calculator.last)\n",
        "\n",
        "            return a/b\n",
        "        elif mod:\n",
        "            Calculator.last = f'div({a}, {b}) == {a%b}'\n",
        "            self.historyList.append(Calculator.last)\n",
        "\n",
        "            return a%b\n",
        "\n",
        "    def history(self, n):\n",
        "        if len(self.historyList) == 0: return None\n",
        "        else: return self.historyList[-n]\n",
        "\n",
        "    @classmethod\n",
        "    def clear(cls):\n",
        "        cls.last = None\n",
        "\n"
      ],
      "metadata": {
        "id": "r4_mZD6Khimw"
      },
      "execution_count": null,
      "outputs": []
    },
    {
      "cell_type": "code",
      "source": [
        "c = Calculator()\n",
        "c.div(3,2, mod=True)"
      ],
      "metadata": {
        "colab": {
          "base_uri": "https://localhost:8080/"
        },
        "id": "YDpdjA9Umswz",
        "outputId": "3e397f24-5c4a-4109-9a76-b0da6de44c8c"
      },
      "execution_count": null,
      "outputs": [
        {
          "output_type": "execute_result",
          "data": {
            "text/plain": [
              "1"
            ]
          },
          "metadata": {},
          "execution_count": 52
        }
      ]
    },
    {
      "cell_type": "code",
      "source": [
        "c.last"
      ],
      "metadata": {
        "colab": {
          "base_uri": "https://localhost:8080/",
          "height": 35
        },
        "id": "6Ac_RkB4m1mN",
        "outputId": "421299a7-c67e-42e8-883a-f7ba48f3f84d"
      },
      "execution_count": null,
      "outputs": [
        {
          "output_type": "execute_result",
          "data": {
            "text/plain": [
              "'div(3, 2) == 1.0'"
            ],
            "application/vnd.google.colaboratory.intrinsic+json": {
              "type": "string"
            }
          },
          "metadata": {},
          "execution_count": 53
        }
      ]
    },
    {
      "cell_type": "markdown",
      "source": [
        "#17\n",
        "\n",
        "Написать классы, которые будут использованы как счета в банке. Каждый счет - в своей валюте. Соответственно, у каждого объекта счета должны быть атрибуты с суммой денег, хранящихся на нём, и название кошелька. Каждый класс счета должен в себе хранить коэффициент отношения стоимости своей валюты к базовой валюте.\n",
        "\n",
        "Нам понадобится один базовый класс BaseWallet, в котором будут реализованы общие для всех валютных счетов методы, и три класса для конкретных валютных счетов: RubbleWallet, DollarWallet, EuroWallet. Будем считать коэффициентами отношения валют к базовой валюте:\n",
        "\n",
        "* Рубль: 1\n",
        "* Доллар: 60\n",
        "* Евро: 70\n",
        "\n",
        "Протокол взаимодействия объектов следующий:\n",
        "\n",
        "* RubbleWallet(\"Первый кошелек\", 10), где \"Первый кошелек\" - это название кошелька, а 10 - сумма денег на нём.\n",
        "\n",
        "аналогичные конструкторы для других счетов\n",
        "\n",
        "______________\n",
        "\n",
        "* RubbleWallet(\"X\", 10) + 20 == RubbleWallet(\"X\", 30) - при сложении с числом считаем, что это та же валюта.\n",
        "\n",
        "* RubbleWallet(\"X\", 10) += 20 - должен поддерживаться и такой синтаксис\n",
        "* 20 + RubbleWallet(\"X\", 10) == RubbleWallet(\"X\", 30) - radd для чисел\n",
        "\n",
        "* RubbleWallet(\"X\", 20) + DollarWallet(\"D\", 10) == RubbleWallet(\"X\", 620) - конвертация валюты при сложении счетов.\n",
        "* DollarWallet(\"D\", 2) + RubbleWallet(\"X\", 60) == DollarWallet(\"D\", 3) - результат - в валюте первого слагаемого.\n",
        "* DollarWallet(\"D\", 2) += RubbleWallet(\"X\", 60) - здесь тоже должен поддерживаться этот синтаксис.\n",
        "\n",
        "предыдущие 6 пунктов реализовать и для вычитания\n",
        "__________\n",
        "\n",
        "* RubbleWallet(\"X\", 10) * 20 == RubbleWallet(\"X\", 200) - умножение на число\n",
        "* RubbleWallet(\"X\", 10) *= 20 - тоже с таким синтаксисом\n",
        "\n",
        "те же 2 пункта для деления\n",
        "____________\n",
        "* 20 * RubbleWallet(\"X\", 10) == RubbleWallet(\"X\", 200) - умножение числа на кошелек\n",
        "__________\n",
        "* DollarWallet(\"A\", 15) == DollarWallet(\"B\", 15): два объекта равны, если у них совпадает тип кошелька и сумма на счете.\n",
        "_______________\n",
        "* RubbleWallet(\"X\", 100).spend_all() - для любого типа кошелька релизовать функцию, которая обнуляет баланс, если он положительный\n",
        "\n",
        "* DollarWallet(\"X\", 1).to_base() == 60 - эта функция должна возвращать число денег в кошельке в базовой валюте\n",
        "\n",
        "* print(DollarWallet(\"Q\", 150)) - должна выводить строку: 'Dollar Wallet Q 150' (и аналогично Rubble и Euro для остальных кошельков)\n",
        "\n",
        "У каждого объекта должны быть доступны атрибуты:\n",
        "\n",
        "* name - название кошелька\n",
        "* amount - количество денег на счете\n",
        "* exchange_rate - коэффициент стоимости валюты к базовой"
      ],
      "metadata": {
        "id": "ripnBT2CsppY"
      }
    },
    {
      "cell_type": "code",
      "source": [
        "class BaseWallet:\n",
        "    exchange_rate = 1\n",
        "\n",
        "    def __init__(self, name, balance):\n",
        "        self.name = name\n",
        "        self.amount = balance\n",
        "\n",
        "    def __add__(self, other):\n",
        "\n",
        "        if isinstance(other, (int, float)):\n",
        "            newName = self.name\n",
        "            newBalance = self.amount + other\n",
        "        else:\n",
        "            newName = self.name\n",
        "            newBalance = self.amount + other.amount * (other.exchange_rate/self.exchange_rate)\n",
        "        return self.__class__(newName, newBalance)\n",
        "\n",
        "        # if isinstance(other, BaseWallet) == True or isinstance(other, RubbleWallet) == True or isinstance(other, DollarWallet) == True or isinstance(other, EuroWallet) == True :\n",
        "            # return self.__class__(self.name, self.amount + other.amount * (other.exchange_rate/self.exchange_rate))\n",
        "        # else:\n",
        "        #     return self.__class__(self.name, self.amount + int(other))\n",
        "\n",
        "    def __radd__(self, other):\n",
        "        return self.__add__(other)\n",
        "\n",
        "    # __radd__ = __add__\n",
        "\n",
        "    def __iadd__(self, other):\n",
        "        return self.__add__(other)\n",
        "\n",
        "    def __sub__(self, other):\n",
        "\n",
        "        if isinstance(other, (int, float)):\n",
        "            newName = self.name\n",
        "            newBalance = self.amount - other\n",
        "        else:\n",
        "            newName = self.name\n",
        "            newBalance = self.amount - other.amount * (other.exchange_rate/self.exchange_rate)\n",
        "        return self.__class__(newName, newBalance)\n",
        "\n",
        "        # if isinstance(other, BaseWallet) == True or isinstance(other, RubbleWallet) == True or isinstance(other, DollarWallet) == True or isinstance(other, EuroWallet) == True :\n",
        "        #     return self.__class__(self.name, self.amount - other.amount * (other.exchange_rate/self.exchange_rate))\n",
        "        # else:\n",
        "        #     return self.__class__(self.name, self.amount - int(other))\n",
        "\n",
        "    def __rsub__(self, other):\n",
        "\n",
        "        if isinstance(other, (int, float)):\n",
        "            newName = self.name\n",
        "            newBalance = other - self.amount\n",
        "        else:\n",
        "            newName = self.name\n",
        "            newBalance = other.amount * (other.exchange_rate/self.exchange_rate) - self.amount\n",
        "        return self.__class__(newName, newBalance)\n",
        "\n",
        "        # return other.__sub__(self)\n",
        "\n",
        "    def __isub__(self, other):\n",
        "        return self.__sub__(other)\n",
        "\n",
        "    def __mul__(self, other):\n",
        "        return self.__class__(self.name, self.amount * other)\n",
        "\n",
        "    def __rmul__(self, other):\n",
        "        return self.__mul__(other)\n",
        "\n",
        "    def __imul__(self, other):\n",
        "        return self.__mul__(other)\n",
        "\n",
        "    # def __div__(self, other):\n",
        "    #     return self.__class__(self.name, self.amount / other)\n",
        "\n",
        "    # def __idiv__(self, other):\n",
        "    #     return self.__div__(other)\n",
        "\n",
        "\n",
        "    def __truediv__(self, other):\n",
        "        if isinstance(other, (int, float)):\n",
        "            return self.__class__(self.name, self.amount / other)\n",
        "\n",
        "    def __rtruediv__(self, other):\n",
        "        if isinstance(other, (int, float)):\n",
        "            return self.__class__(self.name, other * (self.exchange_rate / self.amount))\n",
        "\n",
        "    def spend_all(self):\n",
        "        if self.amount > 0: self.amount = 0\n",
        "\n",
        "    def to_base(self):\n",
        "        return self.amount * self.exchange_rate\n",
        "\n",
        "    #????\n",
        "    def __eq__(self, other):\n",
        "        return self.__class__ == other.__class__ and self.amount == other.amount\n",
        "\n",
        "    def __str__(self):\n",
        "        return(f'Base Wallet {self.name} {self.amount}')\n",
        "\n",
        "\n",
        "class RubbleWallet(BaseWallet):\n",
        "    exchange_rate = 1\n",
        "\n",
        "    def __str__(self):\n",
        "        return(f'Rubble Wallet {self.name} {self.amount}')\n",
        "\n",
        "\n",
        "class DollarWallet(BaseWallet):\n",
        "    exchange_rate = 60\n",
        "\n",
        "    def __str__(self):\n",
        "        return(f'Dollar Wallet {self.name} {self.amount}')\n",
        "\n",
        "class EuroWallet(BaseWallet):\n",
        "    exchange_rate = 70\n",
        "\n",
        "    def __str__(self):\n",
        "        return(f'Euro Wallet {self.name} {self.amount}')\n",
        "\n"
      ],
      "metadata": {
        "id": "yQXA2lI2tkqY"
      },
      "execution_count": null,
      "outputs": []
    },
    {
      "cell_type": "markdown",
      "source": [
        "# 18\n",
        "Напишем свой аналог листа таблицы Excel. Нужно написать структуру данных Field, в которой доступ к значениям будет осуществляться по ключам. Ключом будет пара \"буква\" - \"число\", по аналогии с адресом ячейки в Excel. Возможные форматы обращения к одной и той же \"ячейке\" данных:\n",
        "\n",
        "field = Field()\n",
        "\n",
        "* field[1, 'a'] = 25\n",
        "* field['a', 1] = 25\n",
        "* field['a', '1'] = 25\n",
        "* field['1', 'a'] = 25\n",
        "* field['1a'] = 25\n",
        "* field['a1'] = 25\n",
        "* field[1, 'A'] = 25\n",
        "* field['A', 1] = 25\n",
        "* field['A', '1'] = 25\n",
        "* field['1', 'A'] = 25\n",
        "* field['1A'] = 25\n",
        "* field['A1'] = 25\n",
        "\n",
        "В этом списке каждая из этих строк записывает число 25 в ячейку с одним и тем же ключом. Соответственно, по любому из перечисленных ключей должно быть можно получить это число из объекта field. Также должны быть реализованы удаление элемента из структуры (через оператор del) и возможность использования оператора in, например:\n",
        "\n",
        "* (1, 'a') in field: True\n",
        "* \"A1\" in field: True\n",
        "* ('D', '4') in field: False\n",
        "\n",
        "Таким образом, выходит, что ключом структуры может быть либо кортеж, либо строка. При попытке получить или записать значение по ключу другого типа должно быть вызвано исключение TypeError. При некорректном значении строки или элементов кортежа нужно вызывать исключение ValueError. Корректными значениями будет считать одиночные буквы и неотрицательное целое число любой длины, т.е. правильные варианты ключей:\n",
        "\n",
        "* А1\n",
        "* А222543\n",
        "* Z89\n",
        "\n",
        "Неправильные варианты ключей:\n",
        "\n",
        "* AA5\n",
        "* Q2.5\n",
        "* -6F\n",
        "* A\n",
        "* 27\n",
        "* GG\n",
        "\n",
        "Кроме вышеперчисленного, по объекту должно быть возможно итерироваться. При проходе циклом по объекту должны возвращаться значения, хранящиеся в нём. Порядок возврата значений не важен.\n",
        "\n",
        "Если запрашивается правильный формат ячейки, но в нашем контейнере такого ключа нет, то нужно вернуть None. Например:\n",
        "\n",
        "field = Field()\n",
        "\n",
        "print(field[\"C5\"] is None)\n",
        "\n",
        "True\n",
        "\n",
        "*Примечания*\n",
        "\n",
        "В своем решении этого задания я использовал в качестве ключей хранимого словаря frozenset, а проверку на ValueError реализовал через регулярку. Также рекомендую проверку типов и преобразование поступившего ключа в тот вид, в котором он хранится \"под капотом\", вынести в отдельный метод и вызывать его из всех описываемых магических методов."
      ],
      "metadata": {
        "id": "S6kFW-ORlV6B"
      }
    },
    {
      "cell_type": "code",
      "source": [
        "import re\n",
        "\n",
        "class Field(dict):\n",
        "    # dictionary = {}\n",
        "\n",
        "    @staticmethod\n",
        "    def _checkTheKey(key):\n",
        "\n",
        "        if isinstance(key, str):\n",
        "\n",
        "            if None != re.search(r'^[a-zA-Z][0-9]+|^[0-9]+[a-zA-Z]', key) and key == re.search(r'^[a-zA-Z][0-9]+|^[0-9]+[a-zA-Z]', key).group(0) :\n",
        "                    letter = re.search(r'^[a-zA-Z]|[a-zA-Z]$', key).group(0).lower()\n",
        "                    number = re.search(r'^[0-9]+|[0-9]+$', key).group(0)\n",
        "                    return (letter, number)\n",
        "\n",
        "            else: raise ValueError(\"Неверный формат ключа: ключ (строка) должен содержать одну букву и одно целое неотрицательное число\")\n",
        "\n",
        "        elif isinstance(key, tuple):\n",
        "\n",
        "            if len(key) == 2:\n",
        "\n",
        "                if isinstance(key[0], int) and isinstance(key[1], str):\n",
        "\n",
        "                    if None != re.search(r'^[a-zA-Z]|[a-zA-Z]$', key[1]) and key[1] == re.search(r'^[a-zA-Z]|[a-zA-Z]$', key[1]).group(0) :\n",
        "                        letter = key[1].lower()\n",
        "                    else: raise ValueError(\"Неверный формат ключа: ключ (кортеж) должен содержать одну букву\")\n",
        "\n",
        "                    if key[0] >= 0: number = str(key[0])\n",
        "                    else: raise ValueError(\"Неверный формат ключа: ключ (кортеж) должен содержать одно неотрицательное целое число\")\n",
        "\n",
        "                    return (letter, number)\n",
        "\n",
        "\n",
        "                elif isinstance(key[0], str) and isinstance(key[1], str):\n",
        "\n",
        "                    if None != re.search(r'^[a-zA-Z]|[a-zA-Z]$', key[0]) \\\n",
        "                                    and key[0] == re.search(r'^[a-zA-Z]|[a-zA-Z]$', key[0]).group(0) \\\n",
        "                                    and None != re.search(r'^[0-9]+|[0-9]+$', key[1]) \\\n",
        "                                    and key[1] == re.search(r'^[0-9]+|[0-9]+$', key[1]).group(0):\n",
        "                        letter = key[0].lower()\n",
        "                        number = key[1]\n",
        "                        return (letter, number)\n",
        "\n",
        "                    elif None != re.search(r'^[a-zA-Z]|[a-zA-Z]$', key[1]) \\\n",
        "                                and key[1] == re.search(r'^[a-zA-Z]|[a-zA-Z]$', key[1]).group(0) \\\n",
        "                                and None != re.search(r'^[0-9]+|[0-9]+$', key[0]) \\\n",
        "                                and key[0] == re.search(r'^[0-9]+|[0-9]+$', key[0]).group(0):\n",
        "                        letter = key[1].lower()\n",
        "                        number = key[0]\n",
        "                        return (letter, number)\n",
        "\n",
        "                    else: raise ValueError(\"Неверный формат ключа: ключ (кортеж) должен содержать два элемента: число(str) и букву(str)\")\n",
        "\n",
        "                elif isinstance(key[0], str) and isinstance(key[1], int):\n",
        "\n",
        "                    if None != re.search(r'^[a-zA-Z]|[a-zA-Z]$', key[0]) and key[0] == re.search(r'^[a-zA-Z]|[a-zA-Z]$', key[0]).group(0) :\n",
        "                        letter = key[0].lower()\n",
        "                    else: raise ValueError(\"Неверный формат ключа: ключ (кортеж) должен содержать одну букву\")\n",
        "\n",
        "                    if key[1] >= 0: number = str(key[1])\n",
        "                    else: raise ValueError(\"Неверный формат ключа: ключ (кортеж) должен содержать одно неотрицательное целое число\")\n",
        "\n",
        "                    return (letter, number)\n",
        "\n",
        "                else: raise ValueError(\"Неверный формат ключа: ключ (кортеж) должен содержать два элемента: число(int/str) и букву(str)\")\n",
        "\n",
        "            else: raise ValueError(\"Неверный формат ключа: ключ (кортеж) должен содержать два элемента\")\n",
        "\n",
        "        else: raise TypeError(\"Неверный формат ключа: ключ должен быть кортежом или строкой\")\n",
        "\n",
        "    def __getitem__(self, key):\n",
        "        # return self.dictionary.get(self._checkTheKey(key), None)\n",
        "        return super(Field, self).__getitem__(self._checkTheKey(key))\n",
        "\n",
        "    def __setitem__(self, key, value):\n",
        "        # self.dictionary[self._checkTheKey(key)] = value\n",
        "        super(Field, self).__setitem__(self._checkTheKey(key), value)\n",
        "\n",
        "    def __delitem__(self, key):\n",
        "        # del self.dictionary[self._checkTheKey(key)]\n",
        "        super(Field, self).__delitem__(self._checkTheKey(key))\n",
        "\n",
        "    def __iter__(self):\n",
        "        for elem in self.values():\n",
        "            yield elem\n",
        "\n",
        "    def __missing__(self, key):\n",
        "        return None\n",
        "\n",
        "    def __contains__(self, key):\n",
        "        if self._checkTheKey(key) in self.keys(): return True\n",
        "        else: return False\n",
        "\n"
      ],
      "metadata": {
        "id": "0HcMaE-wvJBN"
      },
      "execution_count": null,
      "outputs": []
    },
    {
      "cell_type": "code",
      "source": [
        "f = Field()\n",
        "\n",
        "f['a1'] = 25\n",
        "f['a2'] = 26\n",
        "f['A', 3] = 27"
      ],
      "metadata": {
        "id": "gq27CVOiN-fZ"
      },
      "execution_count": null,
      "outputs": []
    },
    {
      "cell_type": "code",
      "source": [
        "it = iter(f)"
      ],
      "metadata": {
        "id": "SNvaEN1cWfJ9"
      },
      "execution_count": null,
      "outputs": []
    },
    {
      "cell_type": "code",
      "source": [
        "for i in f:\n",
        "    print(i)"
      ],
      "metadata": {
        "colab": {
          "base_uri": "https://localhost:8080/"
        },
        "id": "Yx8GZq-fYuaB",
        "outputId": "d8b072d9-12c3-4ab8-a9a6-58bd0a92fcbe"
      },
      "execution_count": null,
      "outputs": [
        {
          "output_type": "stream",
          "name": "stdout",
          "text": [
            "25\n",
            "26\n",
            "27\n"
          ]
        }
      ]
    },
    {
      "cell_type": "markdown",
      "source": [
        "#19\n",
        "\n",
        "Доработать класс Field так, чтобы вдобавок к реализованному функционалу появились следующие возможности:\n",
        "\n",
        "field = Field()\n",
        "\n",
        "Запись значения в ячейку:\n",
        "\n",
        "* field.a1 = 25: эквивалентно field['a1'] = 25\n",
        "* field.A1 = 25: то же самое\n",
        "\n",
        "Получение значения:\n",
        "* field['b', 2] = 100\n",
        "* field.b2\n",
        "* field.B2\n",
        "\n",
        "Удаление значения:\n",
        "\n",
        "* del field.a1, del field.A1 - эквивалентно del field['a', 1]\n",
        "\n",
        "Таким образом, внутри класса Field методы работы с атрибутами должны работать с тем же объектом, в котором хранятся значения, обрабатываемые в методах __setitem__, __getitem__, __delitem__.\n",
        "\n",
        "Кроме того, обычное присвоение и получение атрибутов (тех, которые не являются адресом ячейки данных нашего класса) должно производиться по стандартному алгоритму питоновских объектов, т.е. они должны храниться в словаре __dict__ объекта.\n",
        "\n",
        "* field = Field()\n",
        "* field.abcde = 125\n",
        "* print(field.abcde, field.__dict__['abcde'] == 125)\n",
        ">125 True\n",
        "\n",
        "Для таких атрибутов также должны быть реализованы получение, присваивание и удаление значения.\n",
        "\n"
      ],
      "metadata": {
        "id": "Wx0nKCzOcdNU"
      }
    },
    {
      "cell_type": "code",
      "source": [
        "import re\n",
        "\n",
        "class Field(dict):\n",
        "    # dictionary = {}\n",
        "\n",
        "    @staticmethod\n",
        "    def _checkTheKey(key):\n",
        "\n",
        "        if isinstance(key, str):\n",
        "\n",
        "            if None != re.search(r'^[a-zA-Z][0-9]+|^[0-9]+[a-zA-Z]', key) and key == re.search(r'^[a-zA-Z][0-9]+|^[0-9]+[a-zA-Z]', key).group(0) :\n",
        "                    letter = re.search(r'^[a-zA-Z]|[a-zA-Z]$', key).group(0).lower()\n",
        "                    number = re.search(r'^[0-9]+|[0-9]+$', key).group(0)\n",
        "                    return (letter, number)\n",
        "\n",
        "            else: raise ValueError(\"Неверный формат ключа: ключ (строка) должен содержать одну букву и одно целое неотрицательное число\")\n",
        "\n",
        "        elif isinstance(key, tuple):\n",
        "\n",
        "            if len(key) == 2:\n",
        "\n",
        "                if isinstance(key[0], int) and isinstance(key[1], str):\n",
        "\n",
        "                    if None != re.search(r'^[a-zA-Z]|[a-zA-Z]$', key[1]) and key[1] == re.search(r'^[a-zA-Z]|[a-zA-Z]$', key[1]).group(0) :\n",
        "                        letter = key[1].lower()\n",
        "                    else: raise ValueError(\"Неверный формат ключа: ключ (кортеж) должен содержать одну букву\")\n",
        "\n",
        "                    if key[0] >= 0: number = str(key[0])\n",
        "                    else: raise ValueError(\"Неверный формат ключа: ключ (кортеж) должен содержать одно неотрицательное целое число\")\n",
        "\n",
        "                    return (letter, number)\n",
        "\n",
        "\n",
        "                elif isinstance(key[0], str) and isinstance(key[1], str):\n",
        "\n",
        "                    if None != re.search(r'^[a-zA-Z]|[a-zA-Z]$', key[0]) \\\n",
        "                                    and key[0] == re.search(r'^[a-zA-Z]|[a-zA-Z]$', key[0]).group(0) \\\n",
        "                                    and None != re.search(r'^[0-9]+|[0-9]+$', key[1]) \\\n",
        "                                    and key[1] == re.search(r'^[0-9]+|[0-9]+$', key[1]).group(0):\n",
        "                        letter = key[0].lower()\n",
        "                        number = key[1]\n",
        "                        return (letter, number)\n",
        "\n",
        "                    elif None != re.search(r'^[a-zA-Z]|[a-zA-Z]$', key[1]) \\\n",
        "                                and key[1] == re.search(r'^[a-zA-Z]|[a-zA-Z]$', key[1]).group(0) \\\n",
        "                                and None != re.search(r'^[0-9]+|[0-9]+$', key[0]) \\\n",
        "                                and key[0] == re.search(r'^[0-9]+|[0-9]+$', key[0]).group(0):\n",
        "                        letter = key[1].lower()\n",
        "                        number = key[0]\n",
        "                        return (letter, number)\n",
        "\n",
        "                    else: raise ValueError(\"Неверный формат ключа: ключ (кортеж) должен содержать два элемента: число(str) и букву(str)\")\n",
        "\n",
        "                elif isinstance(key[0], str) and isinstance(key[1], int):\n",
        "\n",
        "                    if None != re.search(r'^[a-zA-Z]|[a-zA-Z]$', key[0]) and key[0] == re.search(r'^[a-zA-Z]|[a-zA-Z]$', key[0]).group(0) :\n",
        "                        letter = key[0].lower()\n",
        "                    else: raise ValueError(\"Неверный формат ключа: ключ (кортеж) должен содержать одну букву\")\n",
        "\n",
        "                    if key[1] >= 0: number = str(key[1])\n",
        "                    else: raise ValueError(\"Неверный формат ключа: ключ (кортеж) должен содержать одно неотрицательное целое число\")\n",
        "\n",
        "                    return (letter, number)\n",
        "\n",
        "                else: raise ValueError(\"Неверный формат ключа: ключ (кортеж) должен содержать два элемента: число(int/str) и букву(str)\")\n",
        "\n",
        "            else: raise ValueError(\"Неверный формат ключа: ключ (кортеж) должен содержать два элемента\")\n",
        "\n",
        "        else: raise TypeError(\"Неверный формат ключа: ключ должен быть кортежом или строкой\")\n",
        "\n",
        "    def __getitem__(self, key):\n",
        "        return super().__getitem__(self._checkTheKey(key))\n",
        "\n",
        "    def __setitem__(self, key, value):\n",
        "        super().__setitem__(self._checkTheKey(key), value)\n",
        "\n",
        "    def __delitem__(self, key):\n",
        "        super().__delitem__(self._checkTheKey(key))\n",
        "\n",
        "    def __iter__(self):\n",
        "        for elem in self.values():\n",
        "            yield elem\n",
        "\n",
        "    def __missing__(self, key):\n",
        "        return None\n",
        "\n",
        "    def __contains__(self, key):\n",
        "        if self._checkTheKey(key) in self.keys(): return True\n",
        "        else: return False\n",
        "\n",
        "    def __getattr__(self, key):\n",
        "        return self[self._checkTheKey(key)]\n",
        "\n",
        "    def __setattr__(self, key, value):\n",
        "        try:\n",
        "            self[self._checkTheKey(key)] = value\n",
        "        except:\n",
        "            super().__setattr__(key, value)\n",
        "\n",
        "\n",
        "    def __delattr__(self, key):\n",
        "        try:\n",
        "            del self[self._checkTheKey(key)]\n",
        "        except:\n",
        "            super().__delattr__(key)\n",
        "\n",
        "\n"
      ],
      "metadata": {
        "id": "bmSyk1Q8d0Bn"
      },
      "execution_count": null,
      "outputs": []
    },
    {
      "cell_type": "code",
      "source": [
        "field = Field()\n",
        "\n",
        "field.a1 = 11\n",
        "print(field.values())\n",
        "\n",
        "field['a1'] = 22\n",
        "print(field.values())\n",
        "\n",
        "field.A1 = 33\n",
        "print(field.values())\n",
        "\n",
        "del field.A1\n",
        "print(field.values())\n",
        "\n",
        "field.abc = 12345\n",
        "print(field.values())\n",
        "\n",
        "\n",
        "print(field.abc)\n",
        "print(field.__dict__)\n"
      ],
      "metadata": {
        "colab": {
          "base_uri": "https://localhost:8080/"
        },
        "id": "e8EH86jNe3-A",
        "outputId": "8d40cd00-2d15-459e-e6ea-b9cb27b426b4"
      },
      "execution_count": null,
      "outputs": [
        {
          "output_type": "stream",
          "name": "stdout",
          "text": [
            "dict_values([11])\n",
            "dict_values([22])\n",
            "dict_values([33])\n",
            "dict_values([])\n",
            "dict_values([])\n",
            "12345\n",
            "{'abc': 12345}\n"
          ]
        }
      ]
    },
    {
      "cell_type": "code",
      "source": [
        "  field['b', 2] = 100\n",
        "  field.b2\n",
        "  field.B2"
      ],
      "metadata": {
        "id": "pEnX8pPEfCl3"
      },
      "execution_count": null,
      "outputs": []
    },
    {
      "cell_type": "markdown",
      "source": [
        "#20\n",
        "Напишем часть сервиса, который будет помогать бронировать переговорки в офисе. Для этого опишем класс Booking - его объекты будут содержать информацию о конкретном бронировании, а также вспомогательную функцию create_booking, которая будет создавать новый объект бронирования и записывать информацию о бронировании в базу данных бронирований через предоставляемое API. Возвращать она должна будет статус создания бронирования (получилось или переговорка уже занята) и информацию о брони в формате JSON. Ниже - подробности.\n",
        "\n",
        "Класс Booking должен обладать следующим функционалом.\n",
        "\n",
        "* конструктор должен принимать три аргумента в следующем порядке: название переговорки, datetime начала брони и datetime конца брони\n",
        "\n",
        "* внутри конструктора, если datetime конца брони оказался раньше, чем datetime начала, нужно вызвать исключение ValueError\n",
        "\n",
        "Также у объектов этого класса должны быть следующие поля (рекомендую сделать часть из них в виде проперти):\n",
        "\n",
        "* room_name  - название переговорки, полученное из конструктора\n",
        "* start - datetime начала брони. Должна быть возможность назначить новое время начала уже созданной брони\n",
        "* end - datetime конца брони. Должна быть возможность назначить новое время конца уже созданной брони\n",
        "* duration - длительность бронирования в минутах (гарантируется, что длительность любой встречи кратна одной минуте, поэтому это должно быть целое число)\n",
        "* start_date - дата начала брони в формате YYYY-MM-DD (строка)\n",
        "* end_date - дата конца брони в формате YYYY-MM-DD (строка)\n",
        "* start_time - время начала брони в формате HH:MM (строка)\n",
        "* end_time - время конца брони в формате HH:MM (строка)\n",
        "\n",
        "Функция create_booking должна обладать следующей сигнатурой:\n",
        "\n",
        "* create_booking(room_name, start, end) -> str,\n",
        "\n",
        "где аргументы - это те же аргументы, которые принимает конструктор Booking, а выходная строка - это json определенного формата, который описан чуть ниже по тексту.\n",
        "\n",
        "Будем считать, что взаимодействие с базой данных у нас уже описано нашим коллегой в соседнем файле api.py. В нем есть уже готовая функция *register_booking*, которая:\n",
        "\n",
        "* принимает на вход объект класса Booking\n",
        "* возвращает True, если бронирование получилось создать\n",
        "* возвращает False, если мы пытаемся забронировать уже занятую в это время переговорку\n",
        "* если такой переговорки не существует, вызывается KeyError\n",
        "\n",
        "Таким образом, в том же файле, что и класс Booking, вам нужно описать фукнцию create_booking, которая:\n",
        "\n",
        "* обладает сигнатурой *create_booking(room_name, start, end) -> str*, где аргументы - те же, что и в конструкторе Booking\n",
        "* в самом начале своей работы выводит на экран текст: Начинаем создание бронирования\n",
        "* внутри функции создается объект класса Booking, а также вызывается функция register_booking, которая принимает на вход созданный объект.\n",
        "* Должны быть обработаны все случаи работы register_booking: True, False и KeyError. Сделать это поможет конструкция try-except\n",
        "* перед выходом из функции должно выводиться на экран сообщение Заканчиваем создание бронирования. Это должно происходить в любом случае, даже если мы попытались создать бронирование с неверными датами и получили ValueError (см. описание класса Booking). Для этого рекомендую использовать блок finally, в котором описать этот print\n",
        "* Функция должна возвращать json-строку с ответом, в котором будут содержаться следующие поля:\n",
        "\n",
        " * created: true/false, получилось ли забронировать комнату. Если возникло KeyError, то нужно здесь записать false\n",
        " * msg: сообщение с пояснениями. Сообщение должно быть одним из следующих: Бронирование создано, Комната занята, Комната не найдена.\n",
        " Сообщение выбирается на основе того, что вернет функция register_booking\n",
        " * booking - это бронирование в виде json-строки. Должны содержаться поля: room_name, duration, start_date, end_date, start_time, end_time.\n",
        "\n",
        "**Формат ввода**\n",
        "```\n",
        "result = create_booking(\n",
        "    \"Вагнер\",\n",
        "    datetime.datetime(2022, 9, 1, 14),\n",
        "    datetime.datetime(2022, 9, 1, 15, 15)\n",
        ")\n",
        "print(result)\n",
        "```\n",
        "**Формат вывода**\n",
        "\n",
        "*Вывод на экран:*\n",
        "\n",
        "Начинаем создание бронирования\n",
        "\n",
        "Заканчиваем создание бронирования\n",
        "\n",
        "Функция возвращает:\n",
        "\n",
        "```\n",
        "#{\n",
        "  \"created\": false,\n",
        "  \"msg\": \"Комната занята\",\n",
        "  \"booking\": {\n",
        "    \"room_name\": \"Вагнер\",\n",
        "    \"start_date\": \"2022-09-01\",\n",
        "    \"start_time\": \"14:00\",\n",
        "    \"end_date\": \"2022-09-01\",\n",
        "    \"end_time\": \"15:15\",\n",
        "    \"duration\": 75\n",
        "    }\n",
        "\n",
        "}\n",
        "```\n",
        "\n",
        "**Примечания**\n",
        "\n",
        "Пример написания функции create_booking:\n",
        "```\n",
        "from api import register_booking\n",
        "\n",
        "def create_booking(room_name, start, end):\n",
        "    booking = Booking(........)\n",
        "    try:\n",
        "        result = register_booking(booking)\n",
        "    except ....:\n",
        "        ....\n",
        "\n",
        "    return json.dumps(......)\n",
        "```"
      ],
      "metadata": {
        "id": "hrLbhXdg8lEQ"
      }
    },
    {
      "cell_type": "code",
      "source": [
        "import datetime\n",
        "import json\n",
        "from api import register_booking\n",
        "\n",
        "class Booking():\n",
        "\n",
        "    def __init__(self, name, start, end):\n",
        "        self.room_name = name\n",
        "        if start >= end: raise ValueError()\n",
        "        else:\n",
        "            self.start = start\n",
        "            self.end = end\n",
        "\n",
        "    @property\n",
        "    def duration(self):\n",
        "        return (self.end - self.start).total_seconds() / 60\n",
        "\n",
        "    @property\n",
        "    def start_date(self):\n",
        "        return datetime.datetime.strftime(self.start, \"%Y-%m-%d\")\n",
        "\n",
        "    @property\n",
        "    def end_date(self):\n",
        "        return datetime.datetime.strftime(self.end, \"%Y-%m-%d\")\n",
        "\n",
        "    @property\n",
        "    def start_time(self):\n",
        "        return datetime.datetime.strftime(self.start, \"%H:%M\")\n",
        "\n",
        "    @property\n",
        "    def end_time(self):\n",
        "        return datetime.datetime.strftime(self.end, \"%H:%M\")\n",
        "\n",
        "\n",
        "def create_booking(room_name, start, end) -> str:\n",
        "\n",
        "    print(\"Начинаем создание бронирования\")\n",
        "\n",
        "    booking = Booking(room_name, start, end)\n",
        "\n",
        "    try:\n",
        "        result = register_booking(booking)\n",
        "    except KeyError:\n",
        "        created = False\n",
        "        msg = \"Комната не найдена\"\n",
        "\n",
        "        return json.dumps({\n",
        "            \"created\": created,\n",
        "            \"msg\": msg,\n",
        "            \"booking\":\n",
        "            {\n",
        "                \"room_name\": booking.room_name,\n",
        "                \"start_date\": booking.start_date,\n",
        "                \"start_time\": booking.start_time,\n",
        "                \"end_date\": booking.end_date,\n",
        "                \"end_time\": booking.end_time,\n",
        "                \"duration\": booking.duration\n",
        "            }\n",
        "        })\n",
        "    else:\n",
        "        if result == True:\n",
        "            created = True\n",
        "            msg = \"Бронирование создано\"\n",
        "\n",
        "            return json.dumps({\n",
        "                \"created\": created,\n",
        "                \"msg\": msg,\n",
        "                \"booking\":\n",
        "                {\n",
        "                    \"room_name\": booking.room_name,\n",
        "                    \"start_date\": booking.start_date,\n",
        "                    \"start_time\": booking.start_time,\n",
        "                    \"end_date\": booking.end_date,\n",
        "                    \"end_time\": booking.end_time,\n",
        "                    \"duration\": booking.duration\n",
        "                }\n",
        "            })\n",
        "\n",
        "        else:\n",
        "            created = False\n",
        "            msg = \"Комната занята\"\n",
        "\n",
        "            return json.dumps({\n",
        "                \"created\": created,\n",
        "                \"msg\": msg,\n",
        "                \"booking\":\n",
        "                {\n",
        "                    \"room_name\": booking.room_name,\n",
        "                    \"start_date\": booking.start_date,\n",
        "                    \"start_time\": booking.start_time,\n",
        "                    \"end_date\": booking.end_date,\n",
        "                    \"end_time\": booking.end_time,\n",
        "                    \"duration\": booking.duration\n",
        "                }\n",
        "            })\n",
        "    finally:\n",
        "        print(\"Заканчиваем создание бронирования\")\n",
        "\n",
        "\n",
        "\n"
      ],
      "metadata": {
        "colab": {
          "base_uri": "https://localhost:8080/",
          "height": 384
        },
        "id": "Pn90gQKsBaYR",
        "outputId": "5879c092-8dee-4d00-9de3-44aae8386d1b"
      },
      "execution_count": null,
      "outputs": [
        {
          "output_type": "error",
          "ename": "ModuleNotFoundError",
          "evalue": "No module named 'api'",
          "traceback": [
            "\u001b[0;31m---------------------------------------------------------------------------\u001b[0m",
            "\u001b[0;31mModuleNotFoundError\u001b[0m                       Traceback (most recent call last)",
            "\u001b[0;32m<ipython-input-13-94f47d0d973b>\u001b[0m in \u001b[0;36m<cell line: 3>\u001b[0;34m()\u001b[0m\n\u001b[1;32m      1\u001b[0m \u001b[0;32mimport\u001b[0m \u001b[0mdatetime\u001b[0m\u001b[0;34m\u001b[0m\u001b[0;34m\u001b[0m\u001b[0m\n\u001b[1;32m      2\u001b[0m \u001b[0;32mimport\u001b[0m \u001b[0mjson\u001b[0m\u001b[0;34m\u001b[0m\u001b[0;34m\u001b[0m\u001b[0m\n\u001b[0;32m----> 3\u001b[0;31m \u001b[0;32mfrom\u001b[0m \u001b[0mapi\u001b[0m \u001b[0;32mimport\u001b[0m \u001b[0mregister_booking\u001b[0m\u001b[0;34m\u001b[0m\u001b[0;34m\u001b[0m\u001b[0m\n\u001b[0m\u001b[1;32m      4\u001b[0m \u001b[0;34m\u001b[0m\u001b[0m\n\u001b[1;32m      5\u001b[0m \u001b[0;32mclass\u001b[0m \u001b[0mBooking\u001b[0m\u001b[0;34m(\u001b[0m\u001b[0;34m)\u001b[0m\u001b[0;34m:\u001b[0m\u001b[0;34m\u001b[0m\u001b[0;34m\u001b[0m\u001b[0m\n",
            "\u001b[0;31mModuleNotFoundError\u001b[0m: No module named 'api'",
            "",
            "\u001b[0;31m---------------------------------------------------------------------------\u001b[0;32m\nNOTE: If your import is failing due to a missing package, you can\nmanually install dependencies using either !pip or !apt.\n\nTo view examples of installing some common dependencies, click the\n\"Open Examples\" button below.\n\u001b[0;31m---------------------------------------------------------------------------\u001b[0m\n"
          ],
          "errorDetails": {
            "actions": [
              {
                "action": "open_url",
                "actionText": "Open Examples",
                "url": "/notebooks/snippets/importing_libraries.ipynb"
              }
            ]
          }
        }
      ]
    },
    {
      "cell_type": "markdown",
      "source": [
        "#21\n",
        "В первом задании курса предлагается решить классическую задачу с собеседований по питону - написать декоратор, который вычисляет время выполнения оборачиваемой функции. Итак, требования к декоратору:\n",
        "\n",
        "декоратор должен называться time_decorator\n",
        "он должен вычислять время в секундах, в течение которого выполняется обернутая функция при ее вызове. Количество секунд должно быть выведено сразу после выполнения оборачиваемой функции. Количество секунд следует округлять до целого числа и выводить целое число\n",
        "после оборачивания функция должна возвращать тот же результат, который возвращала исходная функция\n",
        "пробрасывать аргументы из декоратора в функцию необязательно для выполнения этого задания\n",
        "Пример использования декоратора\n",
        "```\n",
        "@time_decorator\n",
        "def sleep_1_sec():\n",
        "    time.sleep(1)\n",
        "    print(\"function\")\n",
        "    return 25\n",
        "\n",
        "result = sleep_1_sec()\n",
        "```\n",
        ">function\n",
        ">\n",
        ">1\n",
        "\n",
        ">print(result)\n",
        ">\n",
        ">25"
      ],
      "metadata": {
        "id": "zQjodsUIFbn-"
      }
    },
    {
      "cell_type": "markdown",
      "source": [
        "# Новый раздел"
      ],
      "metadata": {
        "id": "YqFJST7wYcQU"
      }
    },
    {
      "cell_type": "code",
      "source": [
        "import time\n",
        "def time_decorator(func):\n",
        "    def dec_func():\n",
        "        t1 = time.time()\n",
        "        res = func()\n",
        "        print(int(time.time()-t1))\n",
        "        return res\n",
        "    return dec_func"
      ],
      "metadata": {
        "id": "DaLj8efSGcO0"
      },
      "execution_count": null,
      "outputs": []
    },
    {
      "cell_type": "code",
      "source": [
        "@time_decorator\n",
        "def sleep_1_sec():\n",
        "    time.sleep(1)\n",
        "    print(\"function\")\n",
        "    return 25"
      ],
      "metadata": {
        "id": "RH5e6xiYHp6M"
      },
      "execution_count": null,
      "outputs": []
    },
    {
      "cell_type": "code",
      "source": [
        "result = sleep_1_sec()"
      ],
      "metadata": {
        "colab": {
          "base_uri": "https://localhost:8080/"
        },
        "id": "ESQ9jzGMHt2x",
        "outputId": "a5d21278-4b0f-47ae-b395-921cffa0e991"
      },
      "execution_count": null,
      "outputs": [
        {
          "output_type": "stream",
          "name": "stdout",
          "text": [
            "function\n",
            "1\n"
          ]
        }
      ]
    },
    {
      "cell_type": "code",
      "source": [
        "print(result)"
      ],
      "metadata": {
        "colab": {
          "base_uri": "https://localhost:8080/"
        },
        "id": "1Hl_aD_MIxZs",
        "outputId": "8dc4edf9-d2d5-4b14-d52c-c5cb4dc4870d"
      },
      "execution_count": null,
      "outputs": [
        {
          "output_type": "stream",
          "name": "stdout",
          "text": [
            "25\n"
          ]
        }
      ]
    },
    {
      "cell_type": "markdown",
      "source": [
        "#22\n",
        "В этом задании требуется написать фабрику декораторов, которые будут логировать вызовы функций. Чтобы не усложнять, в качестве журнала событий будем использовать списки.\n",
        "\n",
        "Требования к фабрике:\n",
        "\n",
        "* фабрика должна называться logging_decorator\n",
        "* при создании декоратора фабрика должна принять требуемый список-логгер в аргументах\n",
        "* обернутая функция должна возвращать тот же результат, который бы вернула оборачиваемая функция\n",
        "* при вызове обернутой функции в список-логгер должен добавляться словарь, в котором будут храниться название функции, список поданных аргументов, время вызова функции и результат, который она вернула. Формат словаря должен быть таким:\n",
        "```\n",
        "{\n",
        "    'name': 'test_function',\n",
        "    'arguments': {'a': 1, 'b': 2},\n",
        "    'call_time': datetime.datetime(2021, 8, 1, 18, 18, 7, 849184),\n",
        "    'result': 127\n",
        "}\n",
        "```\n",
        "Ниже приведен пример использования такого декоратора.\n",
        "**Пример использования декоратора**\n",
        "```\n",
        "logger = []  # этот словарь будет хранить наш \"лог\"\n",
        "@logging_decorator(logger)  #в аргументы ФД подается логгер\n",
        "def test_simple(a, b=2):\n",
        "    return 127\n",
        "test_simple(1)  # при вызове функции в logger должен добавиться словарь с\n",
        "                 # информацией о вызове функции\n",
        "print(logger)\n",
        "```\n",
        ">[{\n",
        ">    \n",
        ">   'name': 'test_simple',\n",
        ">\n",
        ">   'arguments': {'a': 1, 'b': 2},\n",
        ">\n",
        ">   'call_time': datetime.datetime(2021, 8, 1, 18, 18, 7, 849184),\n",
        ">\n",
        ">   'result': 127\n",
        ">}]\n",
        "\n",
        "**Примечания**\n",
        "\n",
        "Для удобного получения переданных в функцию аргументов при ее вызове можно использовать функцию getcallargs из модуля inspect. Но стоит учесть, что она так или иначе выполняет вызов исследуемой функции, поэтому такой способ плох, если функция изменяет какие-то глобальные состояния. В тестах к этому заданию таких функций нет, поэтому можно попрактиковаться в использовании модуля inspect.\n",
        "\n"
      ],
      "metadata": {
        "id": "zo5ANFvRQ5P3"
      }
    },
    {
      "cell_type": "code",
      "source": [
        "import datetime\n",
        "import inspect\n",
        "\n",
        "def logging_decorator(logger):\n",
        "    def decorator(func):\n",
        "        def wrap(*args, **kwargs):\n",
        "            timee = datetime.datetime.now()\n",
        "            res = func(*args, **kwargs)\n",
        "            logger.append({ 'name': func.__name__,\n",
        "                            'arguments': inspect.getcallargs(func, *args, **kwargs),\n",
        "                            'call_time': timee,\n",
        "                            'result': res})\n",
        "\n",
        "            return res\n",
        "        return wrap\n",
        "    return decorator\n"
      ],
      "metadata": {
        "id": "WdteaxF0SjhX"
      },
      "execution_count": null,
      "outputs": []
    },
    {
      "cell_type": "code",
      "source": [
        "logger = []\n",
        "\n",
        "@logging_decorator(logger)\n",
        "def test_simple(a, b=2):\n",
        "   return 127"
      ],
      "metadata": {
        "id": "rr7zSg0aaSBm"
      },
      "execution_count": null,
      "outputs": []
    },
    {
      "cell_type": "code",
      "source": [
        "test_simple(1)  # при вызове функции в logger должен добавиться словарь с\n",
        "                # информацией о вызове функции"
      ],
      "metadata": {
        "colab": {
          "base_uri": "https://localhost:8080/"
        },
        "id": "Z3isz7_-afKK",
        "outputId": "15aa5d45-f976-4fdf-9922-a44a8b675844"
      },
      "execution_count": null,
      "outputs": [
        {
          "output_type": "execute_result",
          "data": {
            "text/plain": [
              "127"
            ]
          },
          "metadata": {},
          "execution_count": 66
        }
      ]
    },
    {
      "cell_type": "code",
      "source": [
        "print(logger)"
      ],
      "metadata": {
        "colab": {
          "base_uri": "https://localhost:8080/"
        },
        "id": "GLGlVQAGa4iD",
        "outputId": "3881e451-b4a3-4735-8d49-9d7801175005"
      },
      "execution_count": null,
      "outputs": [
        {
          "output_type": "stream",
          "name": "stdout",
          "text": [
            "[{'name': 'test_simple', 'arguments': {'a': 1, 'b': 2}, 'call_time': datetime.datetime(2024, 2, 4, 19, 40, 14, 659706), 'result': 127}]\n"
          ]
        }
      ]
    },
    {
      "cell_type": "code",
      "source": [
        "test_simple.__dict__"
      ],
      "metadata": {
        "colab": {
          "base_uri": "https://localhost:8080/"
        },
        "id": "8UtWowtwbxxk",
        "outputId": "dd21cd2b-df03-435e-9ac5-1db624e0609d"
      },
      "execution_count": null,
      "outputs": [
        {
          "output_type": "execute_result",
          "data": {
            "text/plain": [
              "{}"
            ]
          },
          "metadata": {},
          "execution_count": 63
        }
      ]
    },
    {
      "cell_type": "markdown",
      "source": [
        "#23\n",
        "Здесь https://jsonplaceholder.typicode.com/ описано некоторое API, в котором есть доступ к базе пользователей, постов, комментариев и т.д. Методы, которые мы будем использовать, описаны в разделе Resources. Примеры использования API (правда, на JavaScript'е) описаны на том же сайте по ссылке Guide (https://jsonplaceholder.typicode.com/guide/). Вам нужно для каждого пользователя посчитать количество оставленных постов и количество оставленных комментариев. Всю информацию для этого нужно стягивать GET-запросами по API. Результат нужно отправить в ваше пространство в https://webhook.site в виде POST-запроса, содержащего JSON следующего формата:\n",
        "```\n",
        " { \"statistics\": [\n",
        "    {\n",
        "      \"id\": 1,\n",
        "      \"username\": \"lolkek\",\n",
        "      \"email\": \"user1@mail.dot\",\n",
        "      \"posts\": 125,\n",
        "      \"comments\": 1358\n",
        "    },\n",
        "    {\n",
        "      \"id\": 2,\n",
        "      \"username\": \"cheburek\",\n",
        "      \"email\": \"user2@mail.dot\",\n",
        "      \"posts\": 5,\n",
        "      \"comments\": 12\n",
        "    }\n",
        "  ]\n",
        "}\n",
        "```\n",
        "Поскольку среда исполнения Яндекс-контеста не имеет доступа к интернету, проверить правильность выполнения задания вы можете, отправив в качестве ответа на задание \"Сеть\" pickle объекта ответа запроса:\n",
        "```\n",
        "response = requests.post(.....)\n",
        "with open(\"solution.pickle\", 'wb') as f:\n",
        "    pickle.dump(response, f)\n",
        "```\n",
        "И отправляйте тот файл, который появится в результате исполнения этого кода."
      ],
      "metadata": {
        "id": "4Fhd9nVqw_Lo"
      }
    },
    {
      "cell_type": "code",
      "source": [
        "from functools import partial\n",
        "def f(a, b):\n",
        "    if b == 0:\n",
        "        return 1\n",
        "    if b % 2 == 0:\n",
        "        return f(a, b / 2) ** 2\n",
        "    else:\n",
        "        return a * f(a, b - 1)\n",
        "g = partial(f, b=2)\n",
        "print(g(2))"
      ],
      "metadata": {
        "colab": {
          "base_uri": "https://localhost:8080/"
        },
        "id": "m5z9vr8LYdqL",
        "outputId": "800bf5d0-193e-4a2c-e9f4-aef7ce1ad850"
      },
      "execution_count": null,
      "outputs": [
        {
          "output_type": "stream",
          "name": "stdout",
          "text": [
            "4\n"
          ]
        }
      ]
    },
    {
      "cell_type": "code",
      "source": [
        "class Foo:\n",
        "    def __init__(self):\n",
        "        var = []\n",
        "\n",
        "a = Foo()\n",
        "a.var.append(1)\n",
        "print(a.var)"
      ],
      "metadata": {
        "colab": {
          "base_uri": "https://localhost:8080/",
          "height": 193
        },
        "id": "0fQq9ZxmYhwH",
        "outputId": "2bd0662c-0350-4108-9712-75f0b94b818c"
      },
      "execution_count": null,
      "outputs": [
        {
          "output_type": "error",
          "ename": "AttributeError",
          "evalue": "'Foo' object has no attribute 'var'",
          "traceback": [
            "\u001b[0;31m---------------------------------------------------------------------------\u001b[0m",
            "\u001b[0;31mAttributeError\u001b[0m                            Traceback (most recent call last)",
            "\u001b[0;32m<ipython-input-3-5dec591780bb>\u001b[0m in \u001b[0;36m<cell line: 6>\u001b[0;34m()\u001b[0m\n\u001b[1;32m      4\u001b[0m \u001b[0;34m\u001b[0m\u001b[0m\n\u001b[1;32m      5\u001b[0m \u001b[0ma\u001b[0m \u001b[0;34m=\u001b[0m \u001b[0mFoo\u001b[0m\u001b[0;34m(\u001b[0m\u001b[0;34m)\u001b[0m\u001b[0;34m\u001b[0m\u001b[0;34m\u001b[0m\u001b[0m\n\u001b[0;32m----> 6\u001b[0;31m \u001b[0ma\u001b[0m\u001b[0;34m.\u001b[0m\u001b[0mvar\u001b[0m\u001b[0;34m.\u001b[0m\u001b[0mappend\u001b[0m\u001b[0;34m(\u001b[0m\u001b[0;36m1\u001b[0m\u001b[0;34m)\u001b[0m\u001b[0;34m\u001b[0m\u001b[0;34m\u001b[0m\u001b[0m\n\u001b[0m\u001b[1;32m      7\u001b[0m \u001b[0mprint\u001b[0m\u001b[0;34m(\u001b[0m\u001b[0ma\u001b[0m\u001b[0;34m.\u001b[0m\u001b[0mvar\u001b[0m\u001b[0;34m)\u001b[0m\u001b[0;34m\u001b[0m\u001b[0;34m\u001b[0m\u001b[0m\n",
            "\u001b[0;31mAttributeError\u001b[0m: 'Foo' object has no attribute 'var'"
          ]
        }
      ]
    },
    {
      "cell_type": "code",
      "source": [
        "' '.join('a', 'b', 'c')"
      ],
      "metadata": {
        "colab": {
          "base_uri": "https://localhost:8080/",
          "height": 141
        },
        "id": "CnvPrDPZZTUi",
        "outputId": "f8eec024-b752-4b57-e0ad-6f90681ac01f"
      },
      "execution_count": null,
      "outputs": [
        {
          "output_type": "error",
          "ename": "TypeError",
          "evalue": "str.join() takes exactly one argument (3 given)",
          "traceback": [
            "\u001b[0;31m---------------------------------------------------------------------------\u001b[0m",
            "\u001b[0;31mTypeError\u001b[0m                                 Traceback (most recent call last)",
            "\u001b[0;32m<ipython-input-8-2679e6bf933d>\u001b[0m in \u001b[0;36m<cell line: 1>\u001b[0;34m()\u001b[0m\n\u001b[0;32m----> 1\u001b[0;31m \u001b[0;34m' '\u001b[0m\u001b[0;34m.\u001b[0m\u001b[0mjoin\u001b[0m\u001b[0;34m(\u001b[0m\u001b[0;34m'a'\u001b[0m\u001b[0;34m,\u001b[0m \u001b[0;34m'b'\u001b[0m\u001b[0;34m,\u001b[0m \u001b[0;34m'c'\u001b[0m\u001b[0;34m)\u001b[0m\u001b[0;34m\u001b[0m\u001b[0;34m\u001b[0m\u001b[0m\n\u001b[0m",
            "\u001b[0;31mTypeError\u001b[0m: str.join() takes exactly one argument (3 given)"
          ]
        }
      ]
    },
    {
      "cell_type": "code",
      "source": [
        "import requests\n",
        "\n",
        "stat = []\n",
        "\n",
        "base_url = 'https://webhook.site/917bc157-a8c1-4e9a-ace2-d346f95ecc8c'\n",
        "\n",
        "users = requests.get('https://jsonplaceholder.typicode.com/users')\n",
        "post_str = 'https://jsonplaceholder.typicode.com/posts'\n",
        "comments_str = 'https://jsonplaceholder.typicode.com/comments'\n",
        "\n",
        "for user in users.json():\n",
        "\n",
        "    stat.append({\n",
        "        \"id\": user['id'],\n",
        "        \"username\": user['username'],\n",
        "        \"email\": user['email'],\n",
        "        \"posts\": len(requests.get(post_str + f\"?userId={user['id']}\").json()),\n",
        "        \"comments\": len(requests.get(comments_str + f\"?email={user['email']}\").json())\n",
        "    })\n",
        "\n",
        "response = requests.post(base_url, json={\"statistics\" : stat})"
      ],
      "metadata": {
        "id": "wpN0Q5cwxjJE"
      },
      "execution_count": null,
      "outputs": []
    },
    {
      "cell_type": "code",
      "source": [
        "import pickle\n",
        "with open(\"solution.pickle\", 'wb') as f:\n",
        "    pickle.dump(response, f)"
      ],
      "metadata": {
        "id": "GBoqfYoq5B5n"
      },
      "execution_count": null,
      "outputs": []
    },
    {
      "cell_type": "code",
      "source": [
        "requests.get(f\"https://jsonplaceholder.typicode.com/comments?email=shanna@melissa.tv\").json()"
      ],
      "metadata": {
        "colab": {
          "base_uri": "https://localhost:8080/"
        },
        "id": "fgiEOOcJ3FFD",
        "outputId": "02583702-70bb-40f0-db9a-1c54d74b423f"
      },
      "execution_count": null,
      "outputs": [
        {
          "output_type": "execute_result",
          "data": {
            "text/plain": [
              "[]"
            ]
          },
          "metadata": {},
          "execution_count": 83
        }
      ]
    },
    {
      "cell_type": "code",
      "source": [
        "users.json()[1:3]"
      ],
      "metadata": {
        "colab": {
          "base_uri": "https://localhost:8080/"
        },
        "id": "Cz3MKRLt2c1I",
        "outputId": "ce3d2852-87f4-4c1c-f1e4-9b46fcae502a"
      },
      "execution_count": null,
      "outputs": [
        {
          "output_type": "execute_result",
          "data": {
            "text/plain": [
              "[{'id': 2,\n",
              "  'name': 'Ervin Howell',\n",
              "  'username': 'Antonette',\n",
              "  'email': 'Shanna@melissa.tv',\n",
              "  'address': {'street': 'Victor Plains',\n",
              "   'suite': 'Suite 879',\n",
              "   'city': 'Wisokyburgh',\n",
              "   'zipcode': '90566-7771',\n",
              "   'geo': {'lat': '-43.9509', 'lng': '-34.4618'}},\n",
              "  'phone': '010-692-6593 x09125',\n",
              "  'website': 'anastasia.net',\n",
              "  'company': {'name': 'Deckow-Crist',\n",
              "   'catchPhrase': 'Proactive didactic contingency',\n",
              "   'bs': 'synergize scalable supply-chains'}},\n",
              " {'id': 3,\n",
              "  'name': 'Clementine Bauch',\n",
              "  'username': 'Samantha',\n",
              "  'email': 'Nathan@yesenia.net',\n",
              "  'address': {'street': 'Douglas Extension',\n",
              "   'suite': 'Suite 847',\n",
              "   'city': 'McKenziehaven',\n",
              "   'zipcode': '59590-4157',\n",
              "   'geo': {'lat': '-68.6102', 'lng': '-47.0653'}},\n",
              "  'phone': '1-463-123-4447',\n",
              "  'website': 'ramiro.info',\n",
              "  'company': {'name': 'Romaguera-Jacobson',\n",
              "   'catchPhrase': 'Face to face bifurcated interface',\n",
              "   'bs': 'e-enable strategic applications'}}]"
            ]
          },
          "metadata": {},
          "execution_count": 80
        }
      ]
    },
    {
      "cell_type": "code",
      "source": [
        "stat"
      ],
      "metadata": {
        "colab": {
          "base_uri": "https://localhost:8080/"
        },
        "id": "ZTONsYme2Vda",
        "outputId": "b336a668-c8a3-4e58-df07-5665d580a75c"
      },
      "execution_count": null,
      "outputs": [
        {
          "output_type": "execute_result",
          "data": {
            "text/plain": [
              "[{'id': 1,\n",
              "  'username': 'Bret',\n",
              "  'email': 'Sincere@april.biz',\n",
              "  'posts': 10,\n",
              "  'comments': 0},\n",
              " {'id': 2,\n",
              "  'username': 'Antonette',\n",
              "  'email': 'Shanna@melissa.tv',\n",
              "  'posts': 10,\n",
              "  'comments': 0},\n",
              " {'id': 3,\n",
              "  'username': 'Samantha',\n",
              "  'email': 'Nathan@yesenia.net',\n",
              "  'posts': 10,\n",
              "  'comments': 0},\n",
              " {'id': 4,\n",
              "  'username': 'Karianne',\n",
              "  'email': 'Julianne.OConner@kory.org',\n",
              "  'posts': 10,\n",
              "  'comments': 0},\n",
              " {'id': 5,\n",
              "  'username': 'Kamren',\n",
              "  'email': 'Lucio_Hettinger@annie.ca',\n",
              "  'posts': 10,\n",
              "  'comments': 0},\n",
              " {'id': 6,\n",
              "  'username': 'Leopoldo_Corkery',\n",
              "  'email': 'Karley_Dach@jasper.info',\n",
              "  'posts': 10,\n",
              "  'comments': 0},\n",
              " {'id': 7,\n",
              "  'username': 'Elwyn.Skiles',\n",
              "  'email': 'Telly.Hoeger@billy.biz',\n",
              "  'posts': 10,\n",
              "  'comments': 0},\n",
              " {'id': 8,\n",
              "  'username': 'Maxime_Nienow',\n",
              "  'email': 'Sherwood@rosamond.me',\n",
              "  'posts': 10,\n",
              "  'comments': 0},\n",
              " {'id': 9,\n",
              "  'username': 'Delphine',\n",
              "  'email': 'Chaim_McDermott@dana.io',\n",
              "  'posts': 10,\n",
              "  'comments': 0},\n",
              " {'id': 10,\n",
              "  'username': 'Moriah.Stanton',\n",
              "  'email': 'Rey.Padberg@karina.biz',\n",
              "  'posts': 10,\n",
              "  'comments': 0}]"
            ]
          },
          "metadata": {},
          "execution_count": 78
        }
      ]
    }
  ]
}